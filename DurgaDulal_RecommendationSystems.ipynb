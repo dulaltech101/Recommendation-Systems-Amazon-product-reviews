{
  "nbformat": 4,
  "nbformat_minor": 0,
  "metadata": {
    "colab": {
      "name": "DurgaDulal_RecommendationSystems.ipynb",
      "provenance": [],
      "collapsed_sections": [
        "GuPoy_XfxhXZ"
      ],
      "machine_shape": "hm",
      "include_colab_link": true
    },
    "kernelspec": {
      "display_name": "Python 3",
      "language": "python",
      "name": "python3"
    },
    "language_info": {
      "codemirror_mode": {
        "name": "ipython",
        "version": 3
      },
      "file_extension": ".py",
      "mimetype": "text/x-python",
      "name": "python",
      "nbconvert_exporter": "python",
      "pygments_lexer": "ipython3",
      "version": "3.8.3"
    },
    "accelerator": "GPU"
  },
  "cells": [
    {
      "cell_type": "markdown",
      "metadata": {
        "id": "view-in-github",
        "colab_type": "text"
      },
      "source": [
        "<a href=\"https://colab.research.google.com/github/dulaltech101/Recommendation-Systems-Amazon-product-reviews/blob/main/DurgaDulal_RecommendationSystems.ipynb\" target=\"_parent\"><img src=\"https://colab.research.google.com/assets/colab-badge.svg\" alt=\"Open In Colab\"/></a>"
      ]
    },
    {
      "cell_type": "markdown",
      "metadata": {
        "id": "pXQzH0nC5JtP"
      },
      "source": [
        "# Project- Recommendation Systems: Amazon product reviews\n",
        "\n",
        "### **By Durga P. Dulal** \n",
        "\n",
        "\n",
        "Welcome to the project on Recommendation Systems. We will work with the Amazon product reviews dataset for this project. The **dataset contains ratings of different electronic products**. It does not include information about the products or reviews to avoid bias while building the model. \n",
        "\n",
        "--------------\n",
        "### Context: \n",
        "--------------\n",
        "\n",
        "Online E-commerce websites like Amazon, Flipkart uses **different recommendation models** to **provide personalized suggestions** to **different users**. Amazon currently uses item-to-item collaborative filtering, which scales to massive data sets and produces high-quality recommendations in real-time.\n",
        "\n",
        "----------------\n",
        "### Objective:\n",
        "----------------\n",
        "\n",
        "Build a recommendation system to **recommend products to customers based on their previous ratings for other products**.\n",
        "\n",
        "--------------\n",
        "### Dataset:\n",
        "--------------\n",
        "\n",
        "The Amazon dataset contains the following attributes:\n",
        "\n",
        "- **userId:** Every user identified with a unique id\n",
        "- **productId:** Every product identified with a unique id\n",
        "- **Rating:** Rating of the corresponding product by the corresponding user\n",
        "- **timestamp:** Time of the rating (ignore this column for this exercise)"
      ]
    },
    {
      "cell_type": "markdown",
      "metadata": {
        "id": "ZJjsuiDs5JtP"
      },
      "source": [
        "### Importing Libraries"
      ]
    },
    {
      "cell_type": "code",
      "metadata": {
        "id": "jzu2P-TT5JtP"
      },
      "source": [
        "import warnings\n",
        "warnings.filterwarnings('ignore')\n",
        "\n",
        "import numpy as np\n",
        "import pandas as pd\n",
        "\n",
        "import matplotlib.pyplot as plt\n",
        "import seaborn as sns\n",
        "\n",
        "from sklearn.metrics.pairwise import cosine_similarity\n",
        "\n",
        "from sklearn.metrics import mean_squared_error\n",
        "\n",
        "from datetime import datetime"
      ],
      "execution_count": null,
      "outputs": []
    },
    {
      "cell_type": "markdown",
      "metadata": {
        "id": "NrXYJAv95JtP"
      },
      "source": [
        "### Loading data"
      ]
    },
    {
      "cell_type": "code",
      "metadata": {
        "id": "HIHPN9KiNrJh",
        "colab": {
          "base_uri": "https://localhost:8080/"
        },
        "outputId": "6127f5e5-975e-4e11-c4b6-0e5bf76bfef6"
      },
      "source": [
        "from google.colab import drive\n",
        "drive.mount('/content/drive')"
      ],
      "execution_count": null,
      "outputs": [
        {
          "output_type": "stream",
          "name": "stdout",
          "text": [
            "Mounted at /content/drive\n"
          ]
        }
      ]
    },
    {
      "cell_type": "code",
      "metadata": {
        "id": "JGb-Hk1B5JtP"
      },
      "source": [
        "#Import the data set\n",
        "df = pd.read_csv('/content/drive/MyDrive/ratings_Electronics.csv', header=None) #There are no headers in the data file\n",
        "\n",
        "df.columns = ['user_id', 'prod_id', 'rating', 'timestamp'] #Adding column names\n",
        "\n",
        "df = df.drop('timestamp', axis=1) #Dropping timestamp\n",
        "\n",
        "df_copy = df.copy(deep=True) #Copying the data to another dataframe"
      ],
      "execution_count": 6,
      "outputs": []
    },
    {
      "cell_type": "code",
      "metadata": {
        "id": "aL1JZ00o5JtQ",
        "colab": {
          "base_uri": "https://localhost:8080/",
          "height": 206
        },
        "outputId": "cccf10a6-e91c-456b-d735-5f1c9a70d4ab"
      },
      "source": [
        "# see few rows of the imported dataset\n",
        "df.head()"
      ],
      "execution_count": 7,
      "outputs": [
        {
          "output_type": "execute_result",
          "data": {
            "text/html": [
              "\n",
              "  <div id=\"df-c4350eb9-5d35-4a03-9e95-40f73b5f5cec\">\n",
              "    <div class=\"colab-df-container\">\n",
              "      <div>\n",
              "<style scoped>\n",
              "    .dataframe tbody tr th:only-of-type {\n",
              "        vertical-align: middle;\n",
              "    }\n",
              "\n",
              "    .dataframe tbody tr th {\n",
              "        vertical-align: top;\n",
              "    }\n",
              "\n",
              "    .dataframe thead th {\n",
              "        text-align: right;\n",
              "    }\n",
              "</style>\n",
              "<table border=\"1\" class=\"dataframe\">\n",
              "  <thead>\n",
              "    <tr style=\"text-align: right;\">\n",
              "      <th></th>\n",
              "      <th>user_id</th>\n",
              "      <th>prod_id</th>\n",
              "      <th>rating</th>\n",
              "    </tr>\n",
              "  </thead>\n",
              "  <tbody>\n",
              "    <tr>\n",
              "      <th>0</th>\n",
              "      <td>AKM1MP6P0OYPR</td>\n",
              "      <td>0132793040</td>\n",
              "      <td>5.0</td>\n",
              "    </tr>\n",
              "    <tr>\n",
              "      <th>1</th>\n",
              "      <td>A2CX7LUOHB2NDG</td>\n",
              "      <td>0321732944</td>\n",
              "      <td>5.0</td>\n",
              "    </tr>\n",
              "    <tr>\n",
              "      <th>2</th>\n",
              "      <td>A2NWSAGRHCP8N5</td>\n",
              "      <td>0439886341</td>\n",
              "      <td>1.0</td>\n",
              "    </tr>\n",
              "    <tr>\n",
              "      <th>3</th>\n",
              "      <td>A2WNBOD3WNDNKT</td>\n",
              "      <td>0439886341</td>\n",
              "      <td>3.0</td>\n",
              "    </tr>\n",
              "    <tr>\n",
              "      <th>4</th>\n",
              "      <td>A1GI0U4ZRJA8WN</td>\n",
              "      <td>0439886341</td>\n",
              "      <td>1.0</td>\n",
              "    </tr>\n",
              "  </tbody>\n",
              "</table>\n",
              "</div>\n",
              "      <button class=\"colab-df-convert\" onclick=\"convertToInteractive('df-c4350eb9-5d35-4a03-9e95-40f73b5f5cec')\"\n",
              "              title=\"Convert this dataframe to an interactive table.\"\n",
              "              style=\"display:none;\">\n",
              "        \n",
              "  <svg xmlns=\"http://www.w3.org/2000/svg\" height=\"24px\"viewBox=\"0 0 24 24\"\n",
              "       width=\"24px\">\n",
              "    <path d=\"M0 0h24v24H0V0z\" fill=\"none\"/>\n",
              "    <path d=\"M18.56 5.44l.94 2.06.94-2.06 2.06-.94-2.06-.94-.94-2.06-.94 2.06-2.06.94zm-11 1L8.5 8.5l.94-2.06 2.06-.94-2.06-.94L8.5 2.5l-.94 2.06-2.06.94zm10 10l.94 2.06.94-2.06 2.06-.94-2.06-.94-.94-2.06-.94 2.06-2.06.94z\"/><path d=\"M17.41 7.96l-1.37-1.37c-.4-.4-.92-.59-1.43-.59-.52 0-1.04.2-1.43.59L10.3 9.45l-7.72 7.72c-.78.78-.78 2.05 0 2.83L4 21.41c.39.39.9.59 1.41.59.51 0 1.02-.2 1.41-.59l7.78-7.78 2.81-2.81c.8-.78.8-2.07 0-2.86zM5.41 20L4 18.59l7.72-7.72 1.47 1.35L5.41 20z\"/>\n",
              "  </svg>\n",
              "      </button>\n",
              "      \n",
              "  <style>\n",
              "    .colab-df-container {\n",
              "      display:flex;\n",
              "      flex-wrap:wrap;\n",
              "      gap: 12px;\n",
              "    }\n",
              "\n",
              "    .colab-df-convert {\n",
              "      background-color: #E8F0FE;\n",
              "      border: none;\n",
              "      border-radius: 50%;\n",
              "      cursor: pointer;\n",
              "      display: none;\n",
              "      fill: #1967D2;\n",
              "      height: 32px;\n",
              "      padding: 0 0 0 0;\n",
              "      width: 32px;\n",
              "    }\n",
              "\n",
              "    .colab-df-convert:hover {\n",
              "      background-color: #E2EBFA;\n",
              "      box-shadow: 0px 1px 2px rgba(60, 64, 67, 0.3), 0px 1px 3px 1px rgba(60, 64, 67, 0.15);\n",
              "      fill: #174EA6;\n",
              "    }\n",
              "\n",
              "    [theme=dark] .colab-df-convert {\n",
              "      background-color: #3B4455;\n",
              "      fill: #D2E3FC;\n",
              "    }\n",
              "\n",
              "    [theme=dark] .colab-df-convert:hover {\n",
              "      background-color: #434B5C;\n",
              "      box-shadow: 0px 1px 3px 1px rgba(0, 0, 0, 0.15);\n",
              "      filter: drop-shadow(0px 1px 2px rgba(0, 0, 0, 0.3));\n",
              "      fill: #FFFFFF;\n",
              "    }\n",
              "  </style>\n",
              "\n",
              "      <script>\n",
              "        const buttonEl =\n",
              "          document.querySelector('#df-c4350eb9-5d35-4a03-9e95-40f73b5f5cec button.colab-df-convert');\n",
              "        buttonEl.style.display =\n",
              "          google.colab.kernel.accessAllowed ? 'block' : 'none';\n",
              "\n",
              "        async function convertToInteractive(key) {\n",
              "          const element = document.querySelector('#df-c4350eb9-5d35-4a03-9e95-40f73b5f5cec');\n",
              "          const dataTable =\n",
              "            await google.colab.kernel.invokeFunction('convertToInteractive',\n",
              "                                                     [key], {});\n",
              "          if (!dataTable) return;\n",
              "\n",
              "          const docLinkHtml = 'Like what you see? Visit the ' +\n",
              "            '<a target=\"_blank\" href=https://colab.research.google.com/notebooks/data_table.ipynb>data table notebook</a>'\n",
              "            + ' to learn more about interactive tables.';\n",
              "          element.innerHTML = '';\n",
              "          dataTable['output_type'] = 'display_data';\n",
              "          await google.colab.output.renderOutput(dataTable, element);\n",
              "          const docLink = document.createElement('div');\n",
              "          docLink.innerHTML = docLinkHtml;\n",
              "          element.appendChild(docLink);\n",
              "        }\n",
              "      </script>\n",
              "    </div>\n",
              "  </div>\n",
              "  "
            ],
            "text/plain": [
              "          user_id     prod_id  rating\n",
              "0   AKM1MP6P0OYPR  0132793040     5.0\n",
              "1  A2CX7LUOHB2NDG  0321732944     5.0\n",
              "2  A2NWSAGRHCP8N5  0439886341     1.0\n",
              "3  A2WNBOD3WNDNKT  0439886341     3.0\n",
              "4  A1GI0U4ZRJA8WN  0439886341     1.0"
            ]
          },
          "metadata": {},
          "execution_count": 7
        }
      ]
    },
    {
      "cell_type": "markdown",
      "metadata": {
        "id": "GuPoy_XfxhXZ"
      },
      "source": [
        "### Exploratory Data Analysis (5 marks)"
      ]
    },
    {
      "cell_type": "markdown",
      "metadata": {
        "id": "cZSTbNLK-re5"
      },
      "source": [
        "#### Shape of the data"
      ]
    },
    {
      "cell_type": "code",
      "metadata": {
        "id": "fJ4eQKaY5JtQ",
        "colab": {
          "base_uri": "https://localhost:8080/"
        },
        "outputId": "45a5a9f1-45b2-4063-b98c-a585dd564c54"
      },
      "source": [
        "# Check the number of rows and columns\n",
        "rows, columns = df.shape\n",
        "print(\"No of rows: \", rows) \n",
        "print(\"No of columns: \", columns) "
      ],
      "execution_count": 15,
      "outputs": [
        {
          "output_type": "stream",
          "name": "stdout",
          "text": [
            "No of rows:  7824482\n",
            "No of columns:  3\n"
          ]
        }
      ]
    },
    {
      "cell_type": "markdown",
      "metadata": {
        "id": "6VZB4lYj-re6"
      },
      "source": [
        "#### Data types"
      ]
    },
    {
      "cell_type": "code",
      "metadata": {
        "id": "SVrgMkye5JtQ",
        "colab": {
          "base_uri": "https://localhost:8080/"
        },
        "outputId": "608167b0-4bac-4990-ddc8-05e2fde3680f"
      },
      "source": [
        "#Check Data types\n",
        "df.dtypes"
      ],
      "execution_count": 16,
      "outputs": [
        {
          "output_type": "execute_result",
          "data": {
            "text/plain": [
              "user_id     object\n",
              "prod_id     object\n",
              "rating     float64\n",
              "dtype: object"
            ]
          },
          "metadata": {},
          "execution_count": 16
        }
      ]
    },
    {
      "cell_type": "markdown",
      "metadata": {
        "id": "1G7o3kqS-re8"
      },
      "source": [
        "#### Checking for missing values"
      ]
    },
    {
      "cell_type": "code",
      "metadata": {
        "id": "vt-VEjMA5JtQ",
        "colab": {
          "base_uri": "https://localhost:8080/"
        },
        "outputId": "c4f79e28-d8c0-49d3-f146-c37bebefbb89"
      },
      "source": [
        "# Find number of missing values in each column\n",
        "(df.isna().sum()/df.shape[0])*100"
      ],
      "execution_count": 17,
      "outputs": [
        {
          "output_type": "execute_result",
          "data": {
            "text/plain": [
              "user_id    0.0\n",
              "prod_id    0.0\n",
              "rating     0.0\n",
              "dtype: float64"
            ]
          },
          "metadata": {},
          "execution_count": 17
        }
      ]
    },
    {
      "cell_type": "markdown",
      "metadata": {
        "id": "mx3i0tEA-re9"
      },
      "source": [
        "#### Summary Statistics"
      ]
    },
    {
      "cell_type": "code",
      "metadata": {
        "id": "tYm30MXR5JtR",
        "colab": {
          "base_uri": "https://localhost:8080/"
        },
        "outputId": "60854af7-26da-4c59-c2ea-eb85e3c19f09"
      },
      "source": [
        "# Summary statistics of 'rating' variable\n",
        "df['rating'].describe()"
      ],
      "execution_count": 18,
      "outputs": [
        {
          "output_type": "execute_result",
          "data": {
            "text/plain": [
              "count    7.824482e+06\n",
              "mean     4.012337e+00\n",
              "std      1.380910e+00\n",
              "min      1.000000e+00\n",
              "25%      3.000000e+00\n",
              "50%      5.000000e+00\n",
              "75%      5.000000e+00\n",
              "max      5.000000e+00\n",
              "Name: rating, dtype: float64"
            ]
          },
          "metadata": {},
          "execution_count": 18
        }
      ]
    },
    {
      "cell_type": "markdown",
      "metadata": {
        "id": "ywyFrZIf5JtR"
      },
      "source": [
        "#### Checking the rating distribution\n",
        "\n",
        "Check the distribution of ratings and **provide observations** from the plot "
      ]
    },
    {
      "cell_type": "code",
      "metadata": {
        "id": "wZU4smh_-re9",
        "colab": {
          "base_uri": "https://localhost:8080/",
          "height": 394
        },
        "outputId": "5f4ea56e-2142-4526-b4c2-d6d2f51386cc"
      },
      "source": [
        "#Create the plot and provide observations\n",
        "\n",
        "plt.figure(figsize = (12,6))\n",
        "df['rating'].value_counts(1).plot(kind='bar')\n",
        "plt.xlabel('Rating')\n",
        "plt.ylabel('Count')\n",
        "plt.show()"
      ],
      "execution_count": 19,
      "outputs": [
        {
          "output_type": "display_data",
          "data": {
            "image/png": "[encoded data removed]",
            "text/plain": [
              "<Figure size 864x432 with 1 Axes>"
            ]
          },
          "metadata": {
            "needs_background": "light"
          }
        }
      ]
    },
    {
      "cell_type": "markdown",
      "metadata": {
        "id": "I5XYK-8VH6Z5"
      },
      "source": [
        "- The most common rating (stars) given to products by users is 5.\n",
        "- About **78% of ratings are positive with 5 or 4 stars** \n",
        "- About 22% of ratings has 3 or below stars"
      ]
    },
    {
      "cell_type": "markdown",
      "metadata": {
        "id": "HefpLdLJxhXd"
      },
      "source": [
        "#### Checking the number of unique users and items in the dataset"
      ]
    },
    {
      "cell_type": "code",
      "metadata": {
        "id": "NbSom7195JtR",
        "colab": {
          "base_uri": "https://localhost:8080/"
        },
        "outputId": "e614a074-40b0-455e-b766-7bdceb0897dd"
      },
      "source": [
        "# Number of unique user id and product id in the data\n",
        "print('Number of unique USERS in Raw data = ', df['user_id'].nunique())\n",
        "print('Number of unique ITEMS in Raw data = ', df['prod_id'].nunique())"
      ],
      "execution_count": 20,
      "outputs": [
        {
          "output_type": "stream",
          "name": "stdout",
          "text": [
            "Number of unique USERS in Raw data =  4201696\n",
            "Number of unique ITEMS in Raw data =  476002\n"
          ]
        }
      ]
    },
    {
      "cell_type": "markdown",
      "metadata": {
        "id": "uKr_9J3U-rfJ"
      },
      "source": [
        "- There are **42,01,696 users and 4,76,002 products** in the dataset"
      ]
    },
    {
      "cell_type": "markdown",
      "metadata": {
        "id": "-xubWmas-rfJ"
      },
      "source": [
        "#### Users with most number of ratings"
      ]
    },
    {
      "cell_type": "code",
      "metadata": {
        "id": "n7MX452q5JtR",
        "colab": {
          "base_uri": "https://localhost:8080/"
        },
        "outputId": "4eee48fa-03a7-4940-be72-0454d02dafdf"
      },
      "source": [
        "# Top 10 users based on rating\n",
        "most_rated = df.groupby('user_id').size().sort_values(ascending=False)[:10]\n",
        "most_rated"
      ],
      "execution_count": 21,
      "outputs": [
        {
          "output_type": "execute_result",
          "data": {
            "text/plain": [
              "user_id\n",
              "A5JLAU2ARJ0BO     520\n",
              "ADLVFFE4VBT8      501\n",
              "A3OXHLG6DIBRW8    498\n",
              "A6FIAB28IS79      431\n",
              "A680RUE1FDO8B     406\n",
              "A1ODOGXEYECQQ8    380\n",
              "A36K2N527TXXJN    314\n",
              "A2AY4YUOX2N1BQ    311\n",
              "AWPODHOB4GFWL     308\n",
              "A25C2M3QF9G7OQ    296\n",
              "dtype: int64"
            ]
          },
          "metadata": {},
          "execution_count": 21
        }
      ]
    },
    {
      "cell_type": "markdown",
      "metadata": {
        "id": "4J0hoNE8-rfK"
      },
      "source": [
        "- The highest number of ratings by a user is 520 which is far from the actual number of products present in the data. We can build a recommendation system to recommend products to users which they have not interacted with."
      ]
    },
    {
      "cell_type": "markdown",
      "metadata": {
        "id": "1HIMYcy35JtS"
      },
      "source": [
        "### Data preparation  (1 mark)"
      ]
    },
    {
      "cell_type": "markdown",
      "metadata": {
        "id": "rfJJ_uhJxhXf"
      },
      "source": [
        "**Let's take a subset of the dataset (by only keeping the users who have given 50 or more ratings) to make the dataset less sparse and easy to work with.**"
      ]
    },
    {
      "cell_type": "code",
      "metadata": {
        "id": "dA26-qr35JtS"
      },
      "source": [
        "counts = df['user_id'].value_counts()\n",
        "df_final = df[df['user_id'].isin(counts[counts >= 50].index)]"
      ],
      "execution_count": null,
      "outputs": []
    },
    {
      "cell_type": "code",
      "metadata": {
        "id": "OSBTrRKJ5JtS",
        "colab": {
          "base_uri": "https://localhost:8080/"
        },
        "outputId": "fd4f14f3-3f0a-4f89-aa26-61837867c39b"
      },
      "source": [
        "print('The number of observations in the final data =', len(df_final))\n",
        "print('Number of unique USERS in the final data = ', df_final['user_id'].nunique())\n",
        "print('Number of unique PRODUCTS in the final data = ', df_final['prod_id'].nunique())"
      ],
      "execution_count": null,
      "outputs": [
        {
          "output_type": "stream",
          "text": [
            "The number of observations in the final data = 125871\n",
            "Number of unique USERS in the final data =  1540\n",
            "Number of unique PRODUCTS in the final data =  48190\n"
          ],
          "name": "stdout"
        }
      ]
    },
    {
      "cell_type": "markdown",
      "metadata": {
        "id": "a7FAL0uYxhXg"
      },
      "source": [
        "- The dataframe **df_final has users who have rated 50 or more items**\n",
        "- **We will use df_final to build recommendation systems**"
      ]
    },
    {
      "cell_type": "markdown",
      "metadata": {
        "id": "EH9lz35O5JtS"
      },
      "source": [
        "#### Checking the density of the rating matrix"
      ]
    },
    {
      "cell_type": "code",
      "metadata": {
        "id": "5tdcMN1Q5JtS",
        "colab": {
          "base_uri": "https://localhost:8080/",
          "height": 350
        },
        "outputId": "b0d851ff-2d84-488e-ba57-3281a3813969"
      },
      "source": [
        "#Creating the interaction matrix of products and users based on ratings and replacing NaN value with 0\n",
        "final_ratings_matrix = df_final.pivot(index = 'user_id', columns ='prod_id', values = 'rating').fillna(0)\n",
        "print('Shape of final_ratings_matrix: ', final_ratings_matrix.shape)\n",
        "\n",
        "#Finding the number of non-zero entries in the interaction matrix \n",
        "given_num_of_ratings = np.count_nonzero(final_ratings_matrix)\n",
        "print('given_num_of_ratings = ', given_num_of_ratings)\n",
        "\n",
        "#Finding the possible number of ratings as per the number of users and products\n",
        "possible_num_of_ratings = final_ratings_matrix.shape[0] * final_ratings_matrix.shape[1]\n",
        "print('possible_num_of_ratings = ', possible_num_of_ratings)\n",
        "\n",
        "#Density of ratings\n",
        "density = (given_num_of_ratings/possible_num_of_ratings)\n",
        "density *= 100\n",
        "print ('density: {:4.2f}%'.format(density))\n",
        "\n",
        "final_ratings_matrix.head()"
      ],
      "execution_count": null,
      "outputs": [
        {
          "output_type": "stream",
          "text": [
            "Shape of final_ratings_matrix:  (1540, 48190)\n",
            "given_num_of_ratings =  125871\n",
            "possible_num_of_ratings =  74212600\n",
            "density: 0.17%\n"
          ],
          "name": "stdout"
        },
        {
          "output_type": "execute_result",
          "data": {
            "text/html": [
              "<div>\n",
              "<style scoped>\n",
              "    .dataframe tbody tr th:only-of-type {\n",
              "        vertical-align: middle;\n",
              "    }\n",
              "\n",
              "    .dataframe tbody tr th {\n",
              "        vertical-align: top;\n",
              "    }\n",
              "\n",
              "    .dataframe thead th {\n",
              "        text-align: right;\n",
              "    }\n",
              "</style>\n",
              "<table border=\"1\" class=\"dataframe\">\n",
              "  <thead>\n",
              "    <tr style=\"text-align: right;\">\n",
              "      <th>prod_id</th>\n",
              "      <th>0594451647</th>\n",
              "      <th>0594481813</th>\n",
              "      <th>0970407998</th>\n",
              "      <th>0972683275</th>\n",
              "      <th>1400501466</th>\n",
              "      <th>1400501520</th>\n",
              "      <th>1400501776</th>\n",
              "      <th>1400532620</th>\n",
              "      <th>1400532655</th>\n",
              "      <th>140053271X</th>\n",
              "      <th>1400599997</th>\n",
              "      <th>1400698987</th>\n",
              "      <th>1400699169</th>\n",
              "      <th>1685560148</th>\n",
              "      <th>3744295508</th>\n",
              "      <th>7562434166</th>\n",
              "      <th>787988002X</th>\n",
              "      <th>8862935307</th>\n",
              "      <th>8862936826</th>\n",
              "      <th>9043413585</th>\n",
              "      <th>9573212900</th>\n",
              "      <th>9573212919</th>\n",
              "      <th>9575871979</th>\n",
              "      <th>9800359788</th>\n",
              "      <th>9981719005</th>\n",
              "      <th>9981734241</th>\n",
              "      <th>9981739588</th>\n",
              "      <th>9983722615</th>\n",
              "      <th>998376234X</th>\n",
              "      <th>9983891212</th>\n",
              "      <th>9984922626</th>\n",
              "      <th>9984984362</th>\n",
              "      <th>9985511298</th>\n",
              "      <th>9985511476</th>\n",
              "      <th>9985525264</th>\n",
              "      <th>9985696999</th>\n",
              "      <th>9989360391</th>\n",
              "      <th>B000000O48</th>\n",
              "      <th>B000001OKH</th>\n",
              "      <th>B000001OL6</th>\n",
              "      <th>...</th>\n",
              "      <th>B00KSTODWY</th>\n",
              "      <th>B00KT17TZ4</th>\n",
              "      <th>B00KTIYN7O</th>\n",
              "      <th>B00KU4RD4M</th>\n",
              "      <th>B00KV6FFN0</th>\n",
              "      <th>B00KVLY8E2</th>\n",
              "      <th>B00KVNY2KA</th>\n",
              "      <th>B00KW2W6B2</th>\n",
              "      <th>B00KW3OFG0</th>\n",
              "      <th>B00KWHMR6G</th>\n",
              "      <th>B00KWL62QI</th>\n",
              "      <th>B00KWMNDDM</th>\n",
              "      <th>B00KWPRSJY</th>\n",
              "      <th>B00KWWY1PQ</th>\n",
              "      <th>B00KXAFYZS</th>\n",
              "      <th>B00KXMN08E</th>\n",
              "      <th>B00KXUHX9S</th>\n",
              "      <th>B00KYA7CT8</th>\n",
              "      <th>B00KYMCJF8</th>\n",
              "      <th>B00L0YFJHY</th>\n",
              "      <th>B00L1I727Y</th>\n",
              "      <th>B00L1I80K2</th>\n",
              "      <th>B00L1NZTSS</th>\n",
              "      <th>B00L21HC7A</th>\n",
              "      <th>B00L2442H0</th>\n",
              "      <th>B00L26YDA4</th>\n",
              "      <th>B00L2P3TRS</th>\n",
              "      <th>B00L3YHF6O</th>\n",
              "      <th>B00L403O94</th>\n",
              "      <th>B00L43HAY6</th>\n",
              "      <th>B00L5YZCCG</th>\n",
              "      <th>B00L8I6SFY</th>\n",
              "      <th>B00L8QCVL6</th>\n",
              "      <th>B00LA6T0LS</th>\n",
              "      <th>B00LBZ1Z7K</th>\n",
              "      <th>B00LED02VY</th>\n",
              "      <th>B00LGN7Y3G</th>\n",
              "      <th>B00LGQ6HL8</th>\n",
              "      <th>B00LI4ZZO8</th>\n",
              "      <th>B00LKG1MC8</th>\n",
              "    </tr>\n",
              "    <tr>\n",
              "      <th>user_id</th>\n",
              "      <th></th>\n",
              "      <th></th>\n",
              "      <th></th>\n",
              "      <th></th>\n",
              "      <th></th>\n",
              "      <th></th>\n",
              "      <th></th>\n",
              "      <th></th>\n",
              "      <th></th>\n",
              "      <th></th>\n",
              "      <th></th>\n",
              "      <th></th>\n",
              "      <th></th>\n",
              "      <th></th>\n",
              "      <th></th>\n",
              "      <th></th>\n",
              "      <th></th>\n",
              "      <th></th>\n",
              "      <th></th>\n",
              "      <th></th>\n",
              "      <th></th>\n",
              "      <th></th>\n",
              "      <th></th>\n",
              "      <th></th>\n",
              "      <th></th>\n",
              "      <th></th>\n",
              "      <th></th>\n",
              "      <th></th>\n",
              "      <th></th>\n",
              "      <th></th>\n",
              "      <th></th>\n",
              "      <th></th>\n",
              "      <th></th>\n",
              "      <th></th>\n",
              "      <th></th>\n",
              "      <th></th>\n",
              "      <th></th>\n",
              "      <th></th>\n",
              "      <th></th>\n",
              "      <th></th>\n",
              "      <th></th>\n",
              "      <th></th>\n",
              "      <th></th>\n",
              "      <th></th>\n",
              "      <th></th>\n",
              "      <th></th>\n",
              "      <th></th>\n",
              "      <th></th>\n",
              "      <th></th>\n",
              "      <th></th>\n",
              "      <th></th>\n",
              "      <th></th>\n",
              "      <th></th>\n",
              "      <th></th>\n",
              "      <th></th>\n",
              "      <th></th>\n",
              "      <th></th>\n",
              "      <th></th>\n",
              "      <th></th>\n",
              "      <th></th>\n",
              "      <th></th>\n",
              "      <th></th>\n",
              "      <th></th>\n",
              "      <th></th>\n",
              "      <th></th>\n",
              "      <th></th>\n",
              "      <th></th>\n",
              "      <th></th>\n",
              "      <th></th>\n",
              "      <th></th>\n",
              "      <th></th>\n",
              "      <th></th>\n",
              "      <th></th>\n",
              "      <th></th>\n",
              "      <th></th>\n",
              "      <th></th>\n",
              "      <th></th>\n",
              "      <th></th>\n",
              "      <th></th>\n",
              "      <th></th>\n",
              "      <th></th>\n",
              "    </tr>\n",
              "  </thead>\n",
              "  <tbody>\n",
              "    <tr>\n",
              "      <th>A100UD67AHFODS</th>\n",
              "      <td>0.0</td>\n",
              "      <td>0.0</td>\n",
              "      <td>0.0</td>\n",
              "      <td>0.0</td>\n",
              "      <td>0.0</td>\n",
              "      <td>0.0</td>\n",
              "      <td>0.0</td>\n",
              "      <td>0.0</td>\n",
              "      <td>0.0</td>\n",
              "      <td>0.0</td>\n",
              "      <td>0.0</td>\n",
              "      <td>0.0</td>\n",
              "      <td>0.0</td>\n",
              "      <td>0.0</td>\n",
              "      <td>0.0</td>\n",
              "      <td>0.0</td>\n",
              "      <td>0.0</td>\n",
              "      <td>0.0</td>\n",
              "      <td>0.0</td>\n",
              "      <td>0.0</td>\n",
              "      <td>0.0</td>\n",
              "      <td>0.0</td>\n",
              "      <td>0.0</td>\n",
              "      <td>0.0</td>\n",
              "      <td>0.0</td>\n",
              "      <td>0.0</td>\n",
              "      <td>0.0</td>\n",
              "      <td>0.0</td>\n",
              "      <td>0.0</td>\n",
              "      <td>0.0</td>\n",
              "      <td>0.0</td>\n",
              "      <td>0.0</td>\n",
              "      <td>0.0</td>\n",
              "      <td>0.0</td>\n",
              "      <td>0.0</td>\n",
              "      <td>0.0</td>\n",
              "      <td>0.0</td>\n",
              "      <td>0.0</td>\n",
              "      <td>0.0</td>\n",
              "      <td>0.0</td>\n",
              "      <td>...</td>\n",
              "      <td>0.0</td>\n",
              "      <td>0.0</td>\n",
              "      <td>0.0</td>\n",
              "      <td>0.0</td>\n",
              "      <td>0.0</td>\n",
              "      <td>0.0</td>\n",
              "      <td>0.0</td>\n",
              "      <td>0.0</td>\n",
              "      <td>0.0</td>\n",
              "      <td>0.0</td>\n",
              "      <td>0.0</td>\n",
              "      <td>0.0</td>\n",
              "      <td>0.0</td>\n",
              "      <td>0.0</td>\n",
              "      <td>0.0</td>\n",
              "      <td>0.0</td>\n",
              "      <td>0.0</td>\n",
              "      <td>0.0</td>\n",
              "      <td>0.0</td>\n",
              "      <td>0.0</td>\n",
              "      <td>0.0</td>\n",
              "      <td>0.0</td>\n",
              "      <td>0.0</td>\n",
              "      <td>0.0</td>\n",
              "      <td>0.0</td>\n",
              "      <td>0.0</td>\n",
              "      <td>0.0</td>\n",
              "      <td>0.0</td>\n",
              "      <td>0.0</td>\n",
              "      <td>0.0</td>\n",
              "      <td>0.0</td>\n",
              "      <td>0.0</td>\n",
              "      <td>0.0</td>\n",
              "      <td>0.0</td>\n",
              "      <td>0.0</td>\n",
              "      <td>0.0</td>\n",
              "      <td>0.0</td>\n",
              "      <td>0.0</td>\n",
              "      <td>0.0</td>\n",
              "      <td>0.0</td>\n",
              "    </tr>\n",
              "    <tr>\n",
              "      <th>A100WO06OQR8BQ</th>\n",
              "      <td>0.0</td>\n",
              "      <td>0.0</td>\n",
              "      <td>0.0</td>\n",
              "      <td>0.0</td>\n",
              "      <td>0.0</td>\n",
              "      <td>0.0</td>\n",
              "      <td>0.0</td>\n",
              "      <td>0.0</td>\n",
              "      <td>0.0</td>\n",
              "      <td>0.0</td>\n",
              "      <td>0.0</td>\n",
              "      <td>0.0</td>\n",
              "      <td>0.0</td>\n",
              "      <td>0.0</td>\n",
              "      <td>0.0</td>\n",
              "      <td>0.0</td>\n",
              "      <td>0.0</td>\n",
              "      <td>0.0</td>\n",
              "      <td>0.0</td>\n",
              "      <td>0.0</td>\n",
              "      <td>0.0</td>\n",
              "      <td>0.0</td>\n",
              "      <td>0.0</td>\n",
              "      <td>0.0</td>\n",
              "      <td>0.0</td>\n",
              "      <td>0.0</td>\n",
              "      <td>0.0</td>\n",
              "      <td>0.0</td>\n",
              "      <td>0.0</td>\n",
              "      <td>0.0</td>\n",
              "      <td>0.0</td>\n",
              "      <td>0.0</td>\n",
              "      <td>0.0</td>\n",
              "      <td>0.0</td>\n",
              "      <td>0.0</td>\n",
              "      <td>0.0</td>\n",
              "      <td>0.0</td>\n",
              "      <td>0.0</td>\n",
              "      <td>0.0</td>\n",
              "      <td>0.0</td>\n",
              "      <td>...</td>\n",
              "      <td>0.0</td>\n",
              "      <td>0.0</td>\n",
              "      <td>0.0</td>\n",
              "      <td>0.0</td>\n",
              "      <td>0.0</td>\n",
              "      <td>0.0</td>\n",
              "      <td>0.0</td>\n",
              "      <td>0.0</td>\n",
              "      <td>0.0</td>\n",
              "      <td>0.0</td>\n",
              "      <td>0.0</td>\n",
              "      <td>0.0</td>\n",
              "      <td>0.0</td>\n",
              "      <td>0.0</td>\n",
              "      <td>0.0</td>\n",
              "      <td>0.0</td>\n",
              "      <td>0.0</td>\n",
              "      <td>0.0</td>\n",
              "      <td>0.0</td>\n",
              "      <td>0.0</td>\n",
              "      <td>0.0</td>\n",
              "      <td>0.0</td>\n",
              "      <td>0.0</td>\n",
              "      <td>0.0</td>\n",
              "      <td>0.0</td>\n",
              "      <td>0.0</td>\n",
              "      <td>0.0</td>\n",
              "      <td>0.0</td>\n",
              "      <td>0.0</td>\n",
              "      <td>0.0</td>\n",
              "      <td>0.0</td>\n",
              "      <td>0.0</td>\n",
              "      <td>0.0</td>\n",
              "      <td>0.0</td>\n",
              "      <td>0.0</td>\n",
              "      <td>0.0</td>\n",
              "      <td>0.0</td>\n",
              "      <td>0.0</td>\n",
              "      <td>0.0</td>\n",
              "      <td>0.0</td>\n",
              "    </tr>\n",
              "    <tr>\n",
              "      <th>A105S56ODHGJEK</th>\n",
              "      <td>0.0</td>\n",
              "      <td>0.0</td>\n",
              "      <td>0.0</td>\n",
              "      <td>0.0</td>\n",
              "      <td>0.0</td>\n",
              "      <td>0.0</td>\n",
              "      <td>0.0</td>\n",
              "      <td>0.0</td>\n",
              "      <td>0.0</td>\n",
              "      <td>0.0</td>\n",
              "      <td>0.0</td>\n",
              "      <td>0.0</td>\n",
              "      <td>0.0</td>\n",
              "      <td>0.0</td>\n",
              "      <td>0.0</td>\n",
              "      <td>0.0</td>\n",
              "      <td>0.0</td>\n",
              "      <td>0.0</td>\n",
              "      <td>0.0</td>\n",
              "      <td>0.0</td>\n",
              "      <td>0.0</td>\n",
              "      <td>0.0</td>\n",
              "      <td>0.0</td>\n",
              "      <td>0.0</td>\n",
              "      <td>0.0</td>\n",
              "      <td>0.0</td>\n",
              "      <td>0.0</td>\n",
              "      <td>0.0</td>\n",
              "      <td>0.0</td>\n",
              "      <td>0.0</td>\n",
              "      <td>0.0</td>\n",
              "      <td>0.0</td>\n",
              "      <td>0.0</td>\n",
              "      <td>0.0</td>\n",
              "      <td>0.0</td>\n",
              "      <td>0.0</td>\n",
              "      <td>0.0</td>\n",
              "      <td>0.0</td>\n",
              "      <td>0.0</td>\n",
              "      <td>0.0</td>\n",
              "      <td>...</td>\n",
              "      <td>0.0</td>\n",
              "      <td>0.0</td>\n",
              "      <td>0.0</td>\n",
              "      <td>0.0</td>\n",
              "      <td>0.0</td>\n",
              "      <td>0.0</td>\n",
              "      <td>0.0</td>\n",
              "      <td>0.0</td>\n",
              "      <td>0.0</td>\n",
              "      <td>0.0</td>\n",
              "      <td>0.0</td>\n",
              "      <td>0.0</td>\n",
              "      <td>0.0</td>\n",
              "      <td>0.0</td>\n",
              "      <td>0.0</td>\n",
              "      <td>0.0</td>\n",
              "      <td>0.0</td>\n",
              "      <td>0.0</td>\n",
              "      <td>0.0</td>\n",
              "      <td>0.0</td>\n",
              "      <td>0.0</td>\n",
              "      <td>0.0</td>\n",
              "      <td>0.0</td>\n",
              "      <td>0.0</td>\n",
              "      <td>0.0</td>\n",
              "      <td>0.0</td>\n",
              "      <td>0.0</td>\n",
              "      <td>0.0</td>\n",
              "      <td>0.0</td>\n",
              "      <td>0.0</td>\n",
              "      <td>0.0</td>\n",
              "      <td>0.0</td>\n",
              "      <td>0.0</td>\n",
              "      <td>0.0</td>\n",
              "      <td>0.0</td>\n",
              "      <td>0.0</td>\n",
              "      <td>0.0</td>\n",
              "      <td>0.0</td>\n",
              "      <td>0.0</td>\n",
              "      <td>0.0</td>\n",
              "    </tr>\n",
              "    <tr>\n",
              "      <th>A105TOJ6LTVMBG</th>\n",
              "      <td>0.0</td>\n",
              "      <td>0.0</td>\n",
              "      <td>0.0</td>\n",
              "      <td>0.0</td>\n",
              "      <td>0.0</td>\n",
              "      <td>0.0</td>\n",
              "      <td>0.0</td>\n",
              "      <td>0.0</td>\n",
              "      <td>0.0</td>\n",
              "      <td>0.0</td>\n",
              "      <td>0.0</td>\n",
              "      <td>0.0</td>\n",
              "      <td>0.0</td>\n",
              "      <td>0.0</td>\n",
              "      <td>0.0</td>\n",
              "      <td>0.0</td>\n",
              "      <td>0.0</td>\n",
              "      <td>0.0</td>\n",
              "      <td>0.0</td>\n",
              "      <td>0.0</td>\n",
              "      <td>0.0</td>\n",
              "      <td>0.0</td>\n",
              "      <td>0.0</td>\n",
              "      <td>0.0</td>\n",
              "      <td>0.0</td>\n",
              "      <td>0.0</td>\n",
              "      <td>0.0</td>\n",
              "      <td>0.0</td>\n",
              "      <td>0.0</td>\n",
              "      <td>0.0</td>\n",
              "      <td>0.0</td>\n",
              "      <td>0.0</td>\n",
              "      <td>0.0</td>\n",
              "      <td>0.0</td>\n",
              "      <td>0.0</td>\n",
              "      <td>0.0</td>\n",
              "      <td>0.0</td>\n",
              "      <td>0.0</td>\n",
              "      <td>0.0</td>\n",
              "      <td>0.0</td>\n",
              "      <td>...</td>\n",
              "      <td>0.0</td>\n",
              "      <td>0.0</td>\n",
              "      <td>0.0</td>\n",
              "      <td>0.0</td>\n",
              "      <td>0.0</td>\n",
              "      <td>0.0</td>\n",
              "      <td>0.0</td>\n",
              "      <td>0.0</td>\n",
              "      <td>0.0</td>\n",
              "      <td>0.0</td>\n",
              "      <td>0.0</td>\n",
              "      <td>0.0</td>\n",
              "      <td>0.0</td>\n",
              "      <td>0.0</td>\n",
              "      <td>0.0</td>\n",
              "      <td>0.0</td>\n",
              "      <td>0.0</td>\n",
              "      <td>0.0</td>\n",
              "      <td>0.0</td>\n",
              "      <td>0.0</td>\n",
              "      <td>0.0</td>\n",
              "      <td>0.0</td>\n",
              "      <td>0.0</td>\n",
              "      <td>0.0</td>\n",
              "      <td>0.0</td>\n",
              "      <td>0.0</td>\n",
              "      <td>0.0</td>\n",
              "      <td>0.0</td>\n",
              "      <td>0.0</td>\n",
              "      <td>0.0</td>\n",
              "      <td>0.0</td>\n",
              "      <td>0.0</td>\n",
              "      <td>0.0</td>\n",
              "      <td>0.0</td>\n",
              "      <td>0.0</td>\n",
              "      <td>0.0</td>\n",
              "      <td>0.0</td>\n",
              "      <td>0.0</td>\n",
              "      <td>0.0</td>\n",
              "      <td>0.0</td>\n",
              "    </tr>\n",
              "    <tr>\n",
              "      <th>A10AFVU66A79Y1</th>\n",
              "      <td>0.0</td>\n",
              "      <td>0.0</td>\n",
              "      <td>0.0</td>\n",
              "      <td>0.0</td>\n",
              "      <td>0.0</td>\n",
              "      <td>0.0</td>\n",
              "      <td>0.0</td>\n",
              "      <td>0.0</td>\n",
              "      <td>0.0</td>\n",
              "      <td>0.0</td>\n",
              "      <td>0.0</td>\n",
              "      <td>0.0</td>\n",
              "      <td>0.0</td>\n",
              "      <td>0.0</td>\n",
              "      <td>0.0</td>\n",
              "      <td>0.0</td>\n",
              "      <td>0.0</td>\n",
              "      <td>0.0</td>\n",
              "      <td>0.0</td>\n",
              "      <td>0.0</td>\n",
              "      <td>0.0</td>\n",
              "      <td>0.0</td>\n",
              "      <td>0.0</td>\n",
              "      <td>0.0</td>\n",
              "      <td>0.0</td>\n",
              "      <td>0.0</td>\n",
              "      <td>0.0</td>\n",
              "      <td>0.0</td>\n",
              "      <td>0.0</td>\n",
              "      <td>0.0</td>\n",
              "      <td>0.0</td>\n",
              "      <td>0.0</td>\n",
              "      <td>0.0</td>\n",
              "      <td>0.0</td>\n",
              "      <td>0.0</td>\n",
              "      <td>0.0</td>\n",
              "      <td>0.0</td>\n",
              "      <td>0.0</td>\n",
              "      <td>0.0</td>\n",
              "      <td>0.0</td>\n",
              "      <td>...</td>\n",
              "      <td>0.0</td>\n",
              "      <td>0.0</td>\n",
              "      <td>0.0</td>\n",
              "      <td>0.0</td>\n",
              "      <td>0.0</td>\n",
              "      <td>0.0</td>\n",
              "      <td>0.0</td>\n",
              "      <td>0.0</td>\n",
              "      <td>0.0</td>\n",
              "      <td>0.0</td>\n",
              "      <td>0.0</td>\n",
              "      <td>0.0</td>\n",
              "      <td>0.0</td>\n",
              "      <td>0.0</td>\n",
              "      <td>0.0</td>\n",
              "      <td>0.0</td>\n",
              "      <td>0.0</td>\n",
              "      <td>0.0</td>\n",
              "      <td>0.0</td>\n",
              "      <td>0.0</td>\n",
              "      <td>0.0</td>\n",
              "      <td>0.0</td>\n",
              "      <td>0.0</td>\n",
              "      <td>0.0</td>\n",
              "      <td>0.0</td>\n",
              "      <td>0.0</td>\n",
              "      <td>0.0</td>\n",
              "      <td>0.0</td>\n",
              "      <td>0.0</td>\n",
              "      <td>0.0</td>\n",
              "      <td>0.0</td>\n",
              "      <td>0.0</td>\n",
              "      <td>0.0</td>\n",
              "      <td>0.0</td>\n",
              "      <td>0.0</td>\n",
              "      <td>0.0</td>\n",
              "      <td>0.0</td>\n",
              "      <td>0.0</td>\n",
              "      <td>0.0</td>\n",
              "      <td>0.0</td>\n",
              "    </tr>\n",
              "  </tbody>\n",
              "</table>\n",
              "<p>5 rows × 48190 columns</p>\n",
              "</div>"
            ],
            "text/plain": [
              "prod_id         0594451647  0594481813  ...  B00LI4ZZO8  B00LKG1MC8\n",
              "user_id                                 ...                        \n",
              "A100UD67AHFODS         0.0         0.0  ...         0.0         0.0\n",
              "A100WO06OQR8BQ         0.0         0.0  ...         0.0         0.0\n",
              "A105S56ODHGJEK         0.0         0.0  ...         0.0         0.0\n",
              "A105TOJ6LTVMBG         0.0         0.0  ...         0.0         0.0\n",
              "A10AFVU66A79Y1         0.0         0.0  ...         0.0         0.0\n",
              "\n",
              "[5 rows x 48190 columns]"
            ]
          },
          "metadata": {
            "tags": []
          },
          "execution_count": 29
        }
      ]
    },
    {
      "cell_type": "markdown",
      "metadata": {
        "id": "Ad8qPpEn-rfM"
      },
      "source": [
        "- Even with the subset of users and products, the current number of ratings is just **0.17%** of the possible number of ratings. This implies that the data is **highly sparse**.\n",
        "- We will build recommendation systems to recommend products to users with which they have not interacted."
      ]
    },
    {
      "cell_type": "markdown",
      "metadata": {
        "id": "A6HgV3qY-rfM"
      },
      "source": [
        "Now that we have explored and preprocessed the data, let's build the first recommendation system"
      ]
    },
    {
      "cell_type": "markdown",
      "metadata": {
        "id": "6xYGrGVy5JtS"
      },
      "source": [
        "### Rank Based Recommendation System (10 marks)"
      ]
    },
    {
      "cell_type": "code",
      "metadata": {
        "id": "yxZTj1UPxhXh",
        "scrolled": true,
        "colab": {
          "base_uri": "https://localhost:8080/",
          "height": 234
        },
        "outputId": "7a902d8f-636a-4340-d645-5dcbbd0487d3"
      },
      "source": [
        "#Calculate the average rating for each product \n",
        "average_rating = df_final.groupby('prod_id').mean()['rating']\n",
        "\n",
        "#Calculate the count of ratings for each product\n",
        "count_rating = df_final.groupby('prod_id').count()['rating']\n",
        "\n",
        "#Create a dataframe with calculated average and count of ratings\n",
        "final_rating = pd.DataFrame({'Avg Rating': average_rating, 'Rating count': count_rating})\n",
        "\n",
        "#Sort the dataframe by average of ratings\n",
        "final_rating = final_rating\n",
        "final_rating.sort_values(by='Rating count', ascending=False, inplace=True)\n",
        "\n",
        "final_rating.head()"
      ],
      "execution_count": null,
      "outputs": [
        {
          "output_type": "execute_result",
          "data": {
            "text/html": [
              "<div>\n",
              "<style scoped>\n",
              "    .dataframe tbody tr th:only-of-type {\n",
              "        vertical-align: middle;\n",
              "    }\n",
              "\n",
              "    .dataframe tbody tr th {\n",
              "        vertical-align: top;\n",
              "    }\n",
              "\n",
              "    .dataframe thead th {\n",
              "        text-align: right;\n",
              "    }\n",
              "</style>\n",
              "<table border=\"1\" class=\"dataframe\">\n",
              "  <thead>\n",
              "    <tr style=\"text-align: right;\">\n",
              "      <th></th>\n",
              "      <th>Avg Rating</th>\n",
              "      <th>Rating count</th>\n",
              "    </tr>\n",
              "    <tr>\n",
              "      <th>prod_id</th>\n",
              "      <th></th>\n",
              "      <th></th>\n",
              "    </tr>\n",
              "  </thead>\n",
              "  <tbody>\n",
              "    <tr>\n",
              "      <th>B0088CJT4U</th>\n",
              "      <td>4.218447</td>\n",
              "      <td>206</td>\n",
              "    </tr>\n",
              "    <tr>\n",
              "      <th>B003ES5ZUU</th>\n",
              "      <td>4.864130</td>\n",
              "      <td>184</td>\n",
              "    </tr>\n",
              "    <tr>\n",
              "      <th>B000N99BBC</th>\n",
              "      <td>4.772455</td>\n",
              "      <td>167</td>\n",
              "    </tr>\n",
              "    <tr>\n",
              "      <th>B007WTAJTO</th>\n",
              "      <td>4.701220</td>\n",
              "      <td>164</td>\n",
              "    </tr>\n",
              "    <tr>\n",
              "      <th>B00829TIEK</th>\n",
              "      <td>4.436242</td>\n",
              "      <td>149</td>\n",
              "    </tr>\n",
              "  </tbody>\n",
              "</table>\n",
              "</div>"
            ],
            "text/plain": [
              "            Avg Rating  Rating count\n",
              "prod_id                             \n",
              "B0088CJT4U    4.218447           206\n",
              "B003ES5ZUU    4.864130           184\n",
              "B000N99BBC    4.772455           167\n",
              "B007WTAJTO    4.701220           164\n",
              "B00829TIEK    4.436242           149"
            ]
          },
          "metadata": {
            "tags": []
          },
          "execution_count": 30
        }
      ]
    },
    {
      "cell_type": "code",
      "metadata": {
        "id": "zKU__5s1xhXi"
      },
      "source": [
        "#defining a function to get the top n products based on highest average rating and minimum interactions\n",
        "def top_n_products(final_rating, n, min_interaction):\n",
        "    \n",
        "    #Finding movies with minimum number of interactions\n",
        "    recommendations = final_rating[final_rating['Rating count'] > min_interaction]\n",
        "    \n",
        "    #Sorting values w.r.t average rating \n",
        "    recommendations.sort_values(by='Avg Rating', ascending=False, inplace=True)\n",
        "    \n",
        "    return recommendations.index[:n]\n"
      ],
      "execution_count": null,
      "outputs": []
    },
    {
      "cell_type": "markdown",
      "metadata": {
        "id": "F8l6373PxhXi"
      },
      "source": [
        "#### Recommending top 5 products with 50 minimum interactions based on popularity"
      ]
    },
    {
      "cell_type": "code",
      "metadata": {
        "id": "dBxdLiM_xhXi",
        "colab": {
          "base_uri": "https://localhost:8080/"
        },
        "outputId": "1c6c7894-57b6-408b-8737-1fbea000e753"
      },
      "source": [
        "list(top_n_products(final_rating, 5, 50))"
      ],
      "execution_count": null,
      "outputs": [
        {
          "output_type": "execute_result",
          "data": {
            "text/plain": [
              "['B001TH7GUU', 'B003ES5ZUU', 'B0019EHU8G', 'B006W8U2MU', 'B000QUUFRW']"
            ]
          },
          "metadata": {
            "tags": []
          },
          "execution_count": 44
        }
      ]
    },
    {
      "cell_type": "markdown",
      "metadata": {
        "id": "l9_xW_UMxhXj"
      },
      "source": [
        "#### Recommending top 5 products with 100 minimum interactions based on popularity"
      ]
    },
    {
      "cell_type": "code",
      "metadata": {
        "id": "dZgGZCUoxhXj",
        "colab": {
          "base_uri": "https://localhost:8080/"
        },
        "outputId": "d8176076-048c-409f-abce-fe46a6036b0f"
      },
      "source": [
        "list(top_n_products(final_rating, 5, 100))"
      ],
      "execution_count": null,
      "outputs": [
        {
          "output_type": "execute_result",
          "data": {
            "text/plain": [
              "['B003ES5ZUU', 'B000N99BBC', 'B007WTAJTO', 'B002V88HFE', 'B004CLYEDC']"
            ]
          },
          "metadata": {
            "tags": []
          },
          "execution_count": 45
        }
      ]
    },
    {
      "cell_type": "markdown",
      "metadata": {
        "id": "BL-m68a15JtT",
        "outputId": "69132b0f-8d3f-4798-f6a0-249e17a3c822"
      },
      "source": [
        "We have recommended the top 5 products by using popularity recommendation system. Now, let's build a recommendation system using collaborative filtering"
      ]
    },
    {
      "cell_type": "markdown",
      "metadata": {
        "id": "PTPxYNE_5JtT"
      },
      "source": [
        "### Collaborative Filtering based Recommendation System (15 marks)"
      ]
    },
    {
      "cell_type": "code",
      "metadata": {
        "id": "AtfdFVux-rfX",
        "colab": {
          "base_uri": "https://localhost:8080/",
          "height": 282
        },
        "outputId": "84e3293b-9980-40d9-8fd7-cae8b13cf6d1"
      },
      "source": [
        "final_ratings_matrix.head()"
      ],
      "execution_count": null,
      "outputs": [
        {
          "output_type": "execute_result",
          "data": {
            "text/html": [
              "<div>\n",
              "<style scoped>\n",
              "    .dataframe tbody tr th:only-of-type {\n",
              "        vertical-align: middle;\n",
              "    }\n",
              "\n",
              "    .dataframe tbody tr th {\n",
              "        vertical-align: top;\n",
              "    }\n",
              "\n",
              "    .dataframe thead th {\n",
              "        text-align: right;\n",
              "    }\n",
              "</style>\n",
              "<table border=\"1\" class=\"dataframe\">\n",
              "  <thead>\n",
              "    <tr style=\"text-align: right;\">\n",
              "      <th>prod_id</th>\n",
              "      <th>0594451647</th>\n",
              "      <th>0594481813</th>\n",
              "      <th>0970407998</th>\n",
              "      <th>0972683275</th>\n",
              "      <th>1400501466</th>\n",
              "      <th>1400501520</th>\n",
              "      <th>1400501776</th>\n",
              "      <th>1400532620</th>\n",
              "      <th>1400532655</th>\n",
              "      <th>140053271X</th>\n",
              "      <th>1400599997</th>\n",
              "      <th>1400698987</th>\n",
              "      <th>1400699169</th>\n",
              "      <th>1685560148</th>\n",
              "      <th>3744295508</th>\n",
              "      <th>7562434166</th>\n",
              "      <th>787988002X</th>\n",
              "      <th>8862935307</th>\n",
              "      <th>8862936826</th>\n",
              "      <th>9043413585</th>\n",
              "      <th>9573212900</th>\n",
              "      <th>9573212919</th>\n",
              "      <th>9575871979</th>\n",
              "      <th>9800359788</th>\n",
              "      <th>9981719005</th>\n",
              "      <th>9981734241</th>\n",
              "      <th>9981739588</th>\n",
              "      <th>9983722615</th>\n",
              "      <th>998376234X</th>\n",
              "      <th>9983891212</th>\n",
              "      <th>9984922626</th>\n",
              "      <th>9984984362</th>\n",
              "      <th>9985511298</th>\n",
              "      <th>9985511476</th>\n",
              "      <th>9985525264</th>\n",
              "      <th>9985696999</th>\n",
              "      <th>9989360391</th>\n",
              "      <th>B000000O48</th>\n",
              "      <th>B000001OKH</th>\n",
              "      <th>B000001OL6</th>\n",
              "      <th>...</th>\n",
              "      <th>B00KSTODWY</th>\n",
              "      <th>B00KT17TZ4</th>\n",
              "      <th>B00KTIYN7O</th>\n",
              "      <th>B00KU4RD4M</th>\n",
              "      <th>B00KV6FFN0</th>\n",
              "      <th>B00KVLY8E2</th>\n",
              "      <th>B00KVNY2KA</th>\n",
              "      <th>B00KW2W6B2</th>\n",
              "      <th>B00KW3OFG0</th>\n",
              "      <th>B00KWHMR6G</th>\n",
              "      <th>B00KWL62QI</th>\n",
              "      <th>B00KWMNDDM</th>\n",
              "      <th>B00KWPRSJY</th>\n",
              "      <th>B00KWWY1PQ</th>\n",
              "      <th>B00KXAFYZS</th>\n",
              "      <th>B00KXMN08E</th>\n",
              "      <th>B00KXUHX9S</th>\n",
              "      <th>B00KYA7CT8</th>\n",
              "      <th>B00KYMCJF8</th>\n",
              "      <th>B00L0YFJHY</th>\n",
              "      <th>B00L1I727Y</th>\n",
              "      <th>B00L1I80K2</th>\n",
              "      <th>B00L1NZTSS</th>\n",
              "      <th>B00L21HC7A</th>\n",
              "      <th>B00L2442H0</th>\n",
              "      <th>B00L26YDA4</th>\n",
              "      <th>B00L2P3TRS</th>\n",
              "      <th>B00L3YHF6O</th>\n",
              "      <th>B00L403O94</th>\n",
              "      <th>B00L43HAY6</th>\n",
              "      <th>B00L5YZCCG</th>\n",
              "      <th>B00L8I6SFY</th>\n",
              "      <th>B00L8QCVL6</th>\n",
              "      <th>B00LA6T0LS</th>\n",
              "      <th>B00LBZ1Z7K</th>\n",
              "      <th>B00LED02VY</th>\n",
              "      <th>B00LGN7Y3G</th>\n",
              "      <th>B00LGQ6HL8</th>\n",
              "      <th>B00LI4ZZO8</th>\n",
              "      <th>B00LKG1MC8</th>\n",
              "    </tr>\n",
              "    <tr>\n",
              "      <th>user_index</th>\n",
              "      <th></th>\n",
              "      <th></th>\n",
              "      <th></th>\n",
              "      <th></th>\n",
              "      <th></th>\n",
              "      <th></th>\n",
              "      <th></th>\n",
              "      <th></th>\n",
              "      <th></th>\n",
              "      <th></th>\n",
              "      <th></th>\n",
              "      <th></th>\n",
              "      <th></th>\n",
              "      <th></th>\n",
              "      <th></th>\n",
              "      <th></th>\n",
              "      <th></th>\n",
              "      <th></th>\n",
              "      <th></th>\n",
              "      <th></th>\n",
              "      <th></th>\n",
              "      <th></th>\n",
              "      <th></th>\n",
              "      <th></th>\n",
              "      <th></th>\n",
              "      <th></th>\n",
              "      <th></th>\n",
              "      <th></th>\n",
              "      <th></th>\n",
              "      <th></th>\n",
              "      <th></th>\n",
              "      <th></th>\n",
              "      <th></th>\n",
              "      <th></th>\n",
              "      <th></th>\n",
              "      <th></th>\n",
              "      <th></th>\n",
              "      <th></th>\n",
              "      <th></th>\n",
              "      <th></th>\n",
              "      <th></th>\n",
              "      <th></th>\n",
              "      <th></th>\n",
              "      <th></th>\n",
              "      <th></th>\n",
              "      <th></th>\n",
              "      <th></th>\n",
              "      <th></th>\n",
              "      <th></th>\n",
              "      <th></th>\n",
              "      <th></th>\n",
              "      <th></th>\n",
              "      <th></th>\n",
              "      <th></th>\n",
              "      <th></th>\n",
              "      <th></th>\n",
              "      <th></th>\n",
              "      <th></th>\n",
              "      <th></th>\n",
              "      <th></th>\n",
              "      <th></th>\n",
              "      <th></th>\n",
              "      <th></th>\n",
              "      <th></th>\n",
              "      <th></th>\n",
              "      <th></th>\n",
              "      <th></th>\n",
              "      <th></th>\n",
              "      <th></th>\n",
              "      <th></th>\n",
              "      <th></th>\n",
              "      <th></th>\n",
              "      <th></th>\n",
              "      <th></th>\n",
              "      <th></th>\n",
              "      <th></th>\n",
              "      <th></th>\n",
              "      <th></th>\n",
              "      <th></th>\n",
              "      <th></th>\n",
              "      <th></th>\n",
              "    </tr>\n",
              "  </thead>\n",
              "  <tbody>\n",
              "    <tr>\n",
              "      <th>0</th>\n",
              "      <td>0.0</td>\n",
              "      <td>0.0</td>\n",
              "      <td>0.0</td>\n",
              "      <td>0.0</td>\n",
              "      <td>0.0</td>\n",
              "      <td>0.0</td>\n",
              "      <td>0.0</td>\n",
              "      <td>0.0</td>\n",
              "      <td>0.0</td>\n",
              "      <td>0.0</td>\n",
              "      <td>0.0</td>\n",
              "      <td>0.0</td>\n",
              "      <td>0.0</td>\n",
              "      <td>0.0</td>\n",
              "      <td>0.0</td>\n",
              "      <td>0.0</td>\n",
              "      <td>0.0</td>\n",
              "      <td>0.0</td>\n",
              "      <td>0.0</td>\n",
              "      <td>0.0</td>\n",
              "      <td>0.0</td>\n",
              "      <td>0.0</td>\n",
              "      <td>0.0</td>\n",
              "      <td>0.0</td>\n",
              "      <td>0.0</td>\n",
              "      <td>0.0</td>\n",
              "      <td>0.0</td>\n",
              "      <td>0.0</td>\n",
              "      <td>0.0</td>\n",
              "      <td>0.0</td>\n",
              "      <td>0.0</td>\n",
              "      <td>0.0</td>\n",
              "      <td>0.0</td>\n",
              "      <td>0.0</td>\n",
              "      <td>0.0</td>\n",
              "      <td>0.0</td>\n",
              "      <td>0.0</td>\n",
              "      <td>0.0</td>\n",
              "      <td>0.0</td>\n",
              "      <td>0.0</td>\n",
              "      <td>...</td>\n",
              "      <td>0.0</td>\n",
              "      <td>0.0</td>\n",
              "      <td>0.0</td>\n",
              "      <td>0.0</td>\n",
              "      <td>0.0</td>\n",
              "      <td>0.0</td>\n",
              "      <td>0.0</td>\n",
              "      <td>0.0</td>\n",
              "      <td>0.0</td>\n",
              "      <td>0.0</td>\n",
              "      <td>0.0</td>\n",
              "      <td>0.0</td>\n",
              "      <td>0.0</td>\n",
              "      <td>0.0</td>\n",
              "      <td>0.0</td>\n",
              "      <td>0.0</td>\n",
              "      <td>0.0</td>\n",
              "      <td>0.0</td>\n",
              "      <td>0.0</td>\n",
              "      <td>0.0</td>\n",
              "      <td>0.0</td>\n",
              "      <td>0.0</td>\n",
              "      <td>0.0</td>\n",
              "      <td>0.0</td>\n",
              "      <td>0.0</td>\n",
              "      <td>0.0</td>\n",
              "      <td>0.0</td>\n",
              "      <td>0.0</td>\n",
              "      <td>0.0</td>\n",
              "      <td>0.0</td>\n",
              "      <td>0.0</td>\n",
              "      <td>0.0</td>\n",
              "      <td>0.0</td>\n",
              "      <td>0.0</td>\n",
              "      <td>0.0</td>\n",
              "      <td>0.0</td>\n",
              "      <td>0.0</td>\n",
              "      <td>0.0</td>\n",
              "      <td>0.0</td>\n",
              "      <td>0.0</td>\n",
              "    </tr>\n",
              "    <tr>\n",
              "      <th>1</th>\n",
              "      <td>0.0</td>\n",
              "      <td>0.0</td>\n",
              "      <td>0.0</td>\n",
              "      <td>0.0</td>\n",
              "      <td>0.0</td>\n",
              "      <td>0.0</td>\n",
              "      <td>0.0</td>\n",
              "      <td>0.0</td>\n",
              "      <td>0.0</td>\n",
              "      <td>0.0</td>\n",
              "      <td>0.0</td>\n",
              "      <td>0.0</td>\n",
              "      <td>0.0</td>\n",
              "      <td>0.0</td>\n",
              "      <td>0.0</td>\n",
              "      <td>0.0</td>\n",
              "      <td>0.0</td>\n",
              "      <td>0.0</td>\n",
              "      <td>0.0</td>\n",
              "      <td>0.0</td>\n",
              "      <td>0.0</td>\n",
              "      <td>0.0</td>\n",
              "      <td>0.0</td>\n",
              "      <td>0.0</td>\n",
              "      <td>0.0</td>\n",
              "      <td>0.0</td>\n",
              "      <td>0.0</td>\n",
              "      <td>0.0</td>\n",
              "      <td>0.0</td>\n",
              "      <td>0.0</td>\n",
              "      <td>0.0</td>\n",
              "      <td>0.0</td>\n",
              "      <td>0.0</td>\n",
              "      <td>0.0</td>\n",
              "      <td>0.0</td>\n",
              "      <td>0.0</td>\n",
              "      <td>0.0</td>\n",
              "      <td>0.0</td>\n",
              "      <td>0.0</td>\n",
              "      <td>0.0</td>\n",
              "      <td>...</td>\n",
              "      <td>0.0</td>\n",
              "      <td>0.0</td>\n",
              "      <td>0.0</td>\n",
              "      <td>0.0</td>\n",
              "      <td>0.0</td>\n",
              "      <td>0.0</td>\n",
              "      <td>0.0</td>\n",
              "      <td>0.0</td>\n",
              "      <td>0.0</td>\n",
              "      <td>0.0</td>\n",
              "      <td>0.0</td>\n",
              "      <td>0.0</td>\n",
              "      <td>0.0</td>\n",
              "      <td>0.0</td>\n",
              "      <td>0.0</td>\n",
              "      <td>0.0</td>\n",
              "      <td>0.0</td>\n",
              "      <td>0.0</td>\n",
              "      <td>0.0</td>\n",
              "      <td>0.0</td>\n",
              "      <td>0.0</td>\n",
              "      <td>0.0</td>\n",
              "      <td>0.0</td>\n",
              "      <td>0.0</td>\n",
              "      <td>0.0</td>\n",
              "      <td>0.0</td>\n",
              "      <td>0.0</td>\n",
              "      <td>0.0</td>\n",
              "      <td>0.0</td>\n",
              "      <td>0.0</td>\n",
              "      <td>0.0</td>\n",
              "      <td>0.0</td>\n",
              "      <td>0.0</td>\n",
              "      <td>0.0</td>\n",
              "      <td>0.0</td>\n",
              "      <td>0.0</td>\n",
              "      <td>0.0</td>\n",
              "      <td>0.0</td>\n",
              "      <td>0.0</td>\n",
              "      <td>0.0</td>\n",
              "    </tr>\n",
              "    <tr>\n",
              "      <th>2</th>\n",
              "      <td>0.0</td>\n",
              "      <td>0.0</td>\n",
              "      <td>0.0</td>\n",
              "      <td>0.0</td>\n",
              "      <td>0.0</td>\n",
              "      <td>0.0</td>\n",
              "      <td>0.0</td>\n",
              "      <td>0.0</td>\n",
              "      <td>0.0</td>\n",
              "      <td>0.0</td>\n",
              "      <td>0.0</td>\n",
              "      <td>0.0</td>\n",
              "      <td>0.0</td>\n",
              "      <td>0.0</td>\n",
              "      <td>0.0</td>\n",
              "      <td>0.0</td>\n",
              "      <td>0.0</td>\n",
              "      <td>0.0</td>\n",
              "      <td>0.0</td>\n",
              "      <td>0.0</td>\n",
              "      <td>0.0</td>\n",
              "      <td>0.0</td>\n",
              "      <td>0.0</td>\n",
              "      <td>0.0</td>\n",
              "      <td>0.0</td>\n",
              "      <td>0.0</td>\n",
              "      <td>0.0</td>\n",
              "      <td>0.0</td>\n",
              "      <td>0.0</td>\n",
              "      <td>0.0</td>\n",
              "      <td>0.0</td>\n",
              "      <td>0.0</td>\n",
              "      <td>0.0</td>\n",
              "      <td>0.0</td>\n",
              "      <td>0.0</td>\n",
              "      <td>0.0</td>\n",
              "      <td>0.0</td>\n",
              "      <td>0.0</td>\n",
              "      <td>0.0</td>\n",
              "      <td>0.0</td>\n",
              "      <td>...</td>\n",
              "      <td>0.0</td>\n",
              "      <td>0.0</td>\n",
              "      <td>0.0</td>\n",
              "      <td>0.0</td>\n",
              "      <td>0.0</td>\n",
              "      <td>0.0</td>\n",
              "      <td>0.0</td>\n",
              "      <td>0.0</td>\n",
              "      <td>0.0</td>\n",
              "      <td>0.0</td>\n",
              "      <td>0.0</td>\n",
              "      <td>0.0</td>\n",
              "      <td>0.0</td>\n",
              "      <td>0.0</td>\n",
              "      <td>0.0</td>\n",
              "      <td>0.0</td>\n",
              "      <td>0.0</td>\n",
              "      <td>0.0</td>\n",
              "      <td>0.0</td>\n",
              "      <td>0.0</td>\n",
              "      <td>0.0</td>\n",
              "      <td>0.0</td>\n",
              "      <td>0.0</td>\n",
              "      <td>0.0</td>\n",
              "      <td>0.0</td>\n",
              "      <td>0.0</td>\n",
              "      <td>0.0</td>\n",
              "      <td>0.0</td>\n",
              "      <td>0.0</td>\n",
              "      <td>0.0</td>\n",
              "      <td>0.0</td>\n",
              "      <td>0.0</td>\n",
              "      <td>0.0</td>\n",
              "      <td>0.0</td>\n",
              "      <td>0.0</td>\n",
              "      <td>0.0</td>\n",
              "      <td>0.0</td>\n",
              "      <td>0.0</td>\n",
              "      <td>0.0</td>\n",
              "      <td>0.0</td>\n",
              "    </tr>\n",
              "    <tr>\n",
              "      <th>3</th>\n",
              "      <td>0.0</td>\n",
              "      <td>0.0</td>\n",
              "      <td>0.0</td>\n",
              "      <td>0.0</td>\n",
              "      <td>0.0</td>\n",
              "      <td>0.0</td>\n",
              "      <td>0.0</td>\n",
              "      <td>0.0</td>\n",
              "      <td>0.0</td>\n",
              "      <td>0.0</td>\n",
              "      <td>0.0</td>\n",
              "      <td>0.0</td>\n",
              "      <td>0.0</td>\n",
              "      <td>0.0</td>\n",
              "      <td>0.0</td>\n",
              "      <td>0.0</td>\n",
              "      <td>0.0</td>\n",
              "      <td>0.0</td>\n",
              "      <td>0.0</td>\n",
              "      <td>0.0</td>\n",
              "      <td>0.0</td>\n",
              "      <td>0.0</td>\n",
              "      <td>0.0</td>\n",
              "      <td>0.0</td>\n",
              "      <td>0.0</td>\n",
              "      <td>0.0</td>\n",
              "      <td>0.0</td>\n",
              "      <td>0.0</td>\n",
              "      <td>0.0</td>\n",
              "      <td>0.0</td>\n",
              "      <td>0.0</td>\n",
              "      <td>0.0</td>\n",
              "      <td>0.0</td>\n",
              "      <td>0.0</td>\n",
              "      <td>0.0</td>\n",
              "      <td>0.0</td>\n",
              "      <td>0.0</td>\n",
              "      <td>0.0</td>\n",
              "      <td>0.0</td>\n",
              "      <td>0.0</td>\n",
              "      <td>...</td>\n",
              "      <td>0.0</td>\n",
              "      <td>0.0</td>\n",
              "      <td>0.0</td>\n",
              "      <td>0.0</td>\n",
              "      <td>0.0</td>\n",
              "      <td>0.0</td>\n",
              "      <td>0.0</td>\n",
              "      <td>0.0</td>\n",
              "      <td>0.0</td>\n",
              "      <td>0.0</td>\n",
              "      <td>0.0</td>\n",
              "      <td>0.0</td>\n",
              "      <td>0.0</td>\n",
              "      <td>0.0</td>\n",
              "      <td>0.0</td>\n",
              "      <td>0.0</td>\n",
              "      <td>0.0</td>\n",
              "      <td>0.0</td>\n",
              "      <td>0.0</td>\n",
              "      <td>0.0</td>\n",
              "      <td>0.0</td>\n",
              "      <td>0.0</td>\n",
              "      <td>0.0</td>\n",
              "      <td>0.0</td>\n",
              "      <td>0.0</td>\n",
              "      <td>0.0</td>\n",
              "      <td>0.0</td>\n",
              "      <td>0.0</td>\n",
              "      <td>0.0</td>\n",
              "      <td>0.0</td>\n",
              "      <td>0.0</td>\n",
              "      <td>0.0</td>\n",
              "      <td>0.0</td>\n",
              "      <td>0.0</td>\n",
              "      <td>0.0</td>\n",
              "      <td>0.0</td>\n",
              "      <td>0.0</td>\n",
              "      <td>0.0</td>\n",
              "      <td>0.0</td>\n",
              "      <td>0.0</td>\n",
              "    </tr>\n",
              "    <tr>\n",
              "      <th>4</th>\n",
              "      <td>0.0</td>\n",
              "      <td>0.0</td>\n",
              "      <td>0.0</td>\n",
              "      <td>0.0</td>\n",
              "      <td>0.0</td>\n",
              "      <td>0.0</td>\n",
              "      <td>0.0</td>\n",
              "      <td>0.0</td>\n",
              "      <td>0.0</td>\n",
              "      <td>0.0</td>\n",
              "      <td>0.0</td>\n",
              "      <td>0.0</td>\n",
              "      <td>0.0</td>\n",
              "      <td>0.0</td>\n",
              "      <td>0.0</td>\n",
              "      <td>0.0</td>\n",
              "      <td>0.0</td>\n",
              "      <td>0.0</td>\n",
              "      <td>0.0</td>\n",
              "      <td>0.0</td>\n",
              "      <td>0.0</td>\n",
              "      <td>0.0</td>\n",
              "      <td>0.0</td>\n",
              "      <td>0.0</td>\n",
              "      <td>0.0</td>\n",
              "      <td>0.0</td>\n",
              "      <td>0.0</td>\n",
              "      <td>0.0</td>\n",
              "      <td>0.0</td>\n",
              "      <td>0.0</td>\n",
              "      <td>0.0</td>\n",
              "      <td>0.0</td>\n",
              "      <td>0.0</td>\n",
              "      <td>0.0</td>\n",
              "      <td>0.0</td>\n",
              "      <td>0.0</td>\n",
              "      <td>0.0</td>\n",
              "      <td>0.0</td>\n",
              "      <td>0.0</td>\n",
              "      <td>0.0</td>\n",
              "      <td>...</td>\n",
              "      <td>0.0</td>\n",
              "      <td>0.0</td>\n",
              "      <td>0.0</td>\n",
              "      <td>0.0</td>\n",
              "      <td>0.0</td>\n",
              "      <td>0.0</td>\n",
              "      <td>0.0</td>\n",
              "      <td>0.0</td>\n",
              "      <td>0.0</td>\n",
              "      <td>0.0</td>\n",
              "      <td>0.0</td>\n",
              "      <td>0.0</td>\n",
              "      <td>0.0</td>\n",
              "      <td>0.0</td>\n",
              "      <td>0.0</td>\n",
              "      <td>0.0</td>\n",
              "      <td>0.0</td>\n",
              "      <td>0.0</td>\n",
              "      <td>0.0</td>\n",
              "      <td>0.0</td>\n",
              "      <td>0.0</td>\n",
              "      <td>0.0</td>\n",
              "      <td>0.0</td>\n",
              "      <td>0.0</td>\n",
              "      <td>0.0</td>\n",
              "      <td>0.0</td>\n",
              "      <td>0.0</td>\n",
              "      <td>0.0</td>\n",
              "      <td>0.0</td>\n",
              "      <td>0.0</td>\n",
              "      <td>0.0</td>\n",
              "      <td>0.0</td>\n",
              "      <td>0.0</td>\n",
              "      <td>0.0</td>\n",
              "      <td>0.0</td>\n",
              "      <td>0.0</td>\n",
              "      <td>0.0</td>\n",
              "      <td>0.0</td>\n",
              "      <td>0.0</td>\n",
              "      <td>0.0</td>\n",
              "    </tr>\n",
              "  </tbody>\n",
              "</table>\n",
              "<p>5 rows × 48190 columns</p>\n",
              "</div>"
            ],
            "text/plain": [
              "prod_id     0594451647  0594481813  ...  B00LI4ZZO8  B00LKG1MC8\n",
              "user_index                          ...                        \n",
              "0                  0.0         0.0  ...         0.0         0.0\n",
              "1                  0.0         0.0  ...         0.0         0.0\n",
              "2                  0.0         0.0  ...         0.0         0.0\n",
              "3                  0.0         0.0  ...         0.0         0.0\n",
              "4                  0.0         0.0  ...         0.0         0.0\n",
              "\n",
              "[5 rows x 48190 columns]"
            ]
          },
          "metadata": {
            "tags": []
          },
          "execution_count": 46
        }
      ]
    },
    {
      "cell_type": "markdown",
      "metadata": {
        "id": "2llaY4LxxhXl"
      },
      "source": [
        "**Here, user_id (index) is of the object data type. We will replace the user_id by numbers starting from 0 to 1539 (for all user ids) so that the index is of integer type and represents a user id in the same format**"
      ]
    },
    {
      "cell_type": "code",
      "metadata": {
        "id": "N0nQs0tGxhXl",
        "colab": {
          "base_uri": "https://localhost:8080/",
          "height": 282
        },
        "outputId": "12a5ece9-56c7-4d81-894b-6169dc02dccc"
      },
      "source": [
        "final_ratings_matrix['user_index'] = np.arange(0, final_ratings_matrix.shape[0])\n",
        "final_ratings_matrix.set_index(['user_index'], inplace=True)\n",
        "\n",
        "# Actual ratings given by users\n",
        "final_ratings_matrix.head()"
      ],
      "execution_count": null,
      "outputs": [
        {
          "output_type": "execute_result",
          "data": {
            "text/html": [
              "<div>\n",
              "<style scoped>\n",
              "    .dataframe tbody tr th:only-of-type {\n",
              "        vertical-align: middle;\n",
              "    }\n",
              "\n",
              "    .dataframe tbody tr th {\n",
              "        vertical-align: top;\n",
              "    }\n",
              "\n",
              "    .dataframe thead th {\n",
              "        text-align: right;\n",
              "    }\n",
              "</style>\n",
              "<table border=\"1\" class=\"dataframe\">\n",
              "  <thead>\n",
              "    <tr style=\"text-align: right;\">\n",
              "      <th>prod_id</th>\n",
              "      <th>0594451647</th>\n",
              "      <th>0594481813</th>\n",
              "      <th>0970407998</th>\n",
              "      <th>0972683275</th>\n",
              "      <th>1400501466</th>\n",
              "      <th>1400501520</th>\n",
              "      <th>1400501776</th>\n",
              "      <th>1400532620</th>\n",
              "      <th>1400532655</th>\n",
              "      <th>140053271X</th>\n",
              "      <th>1400599997</th>\n",
              "      <th>1400698987</th>\n",
              "      <th>1400699169</th>\n",
              "      <th>1685560148</th>\n",
              "      <th>3744295508</th>\n",
              "      <th>7562434166</th>\n",
              "      <th>787988002X</th>\n",
              "      <th>8862935307</th>\n",
              "      <th>8862936826</th>\n",
              "      <th>9043413585</th>\n",
              "      <th>9573212900</th>\n",
              "      <th>9573212919</th>\n",
              "      <th>9575871979</th>\n",
              "      <th>9800359788</th>\n",
              "      <th>9981719005</th>\n",
              "      <th>9981734241</th>\n",
              "      <th>9981739588</th>\n",
              "      <th>9983722615</th>\n",
              "      <th>998376234X</th>\n",
              "      <th>9983891212</th>\n",
              "      <th>9984922626</th>\n",
              "      <th>9984984362</th>\n",
              "      <th>9985511298</th>\n",
              "      <th>9985511476</th>\n",
              "      <th>9985525264</th>\n",
              "      <th>9985696999</th>\n",
              "      <th>9989360391</th>\n",
              "      <th>B000000O48</th>\n",
              "      <th>B000001OKH</th>\n",
              "      <th>B000001OL6</th>\n",
              "      <th>...</th>\n",
              "      <th>B00KSTODWY</th>\n",
              "      <th>B00KT17TZ4</th>\n",
              "      <th>B00KTIYN7O</th>\n",
              "      <th>B00KU4RD4M</th>\n",
              "      <th>B00KV6FFN0</th>\n",
              "      <th>B00KVLY8E2</th>\n",
              "      <th>B00KVNY2KA</th>\n",
              "      <th>B00KW2W6B2</th>\n",
              "      <th>B00KW3OFG0</th>\n",
              "      <th>B00KWHMR6G</th>\n",
              "      <th>B00KWL62QI</th>\n",
              "      <th>B00KWMNDDM</th>\n",
              "      <th>B00KWPRSJY</th>\n",
              "      <th>B00KWWY1PQ</th>\n",
              "      <th>B00KXAFYZS</th>\n",
              "      <th>B00KXMN08E</th>\n",
              "      <th>B00KXUHX9S</th>\n",
              "      <th>B00KYA7CT8</th>\n",
              "      <th>B00KYMCJF8</th>\n",
              "      <th>B00L0YFJHY</th>\n",
              "      <th>B00L1I727Y</th>\n",
              "      <th>B00L1I80K2</th>\n",
              "      <th>B00L1NZTSS</th>\n",
              "      <th>B00L21HC7A</th>\n",
              "      <th>B00L2442H0</th>\n",
              "      <th>B00L26YDA4</th>\n",
              "      <th>B00L2P3TRS</th>\n",
              "      <th>B00L3YHF6O</th>\n",
              "      <th>B00L403O94</th>\n",
              "      <th>B00L43HAY6</th>\n",
              "      <th>B00L5YZCCG</th>\n",
              "      <th>B00L8I6SFY</th>\n",
              "      <th>B00L8QCVL6</th>\n",
              "      <th>B00LA6T0LS</th>\n",
              "      <th>B00LBZ1Z7K</th>\n",
              "      <th>B00LED02VY</th>\n",
              "      <th>B00LGN7Y3G</th>\n",
              "      <th>B00LGQ6HL8</th>\n",
              "      <th>B00LI4ZZO8</th>\n",
              "      <th>B00LKG1MC8</th>\n",
              "    </tr>\n",
              "    <tr>\n",
              "      <th>user_index</th>\n",
              "      <th></th>\n",
              "      <th></th>\n",
              "      <th></th>\n",
              "      <th></th>\n",
              "      <th></th>\n",
              "      <th></th>\n",
              "      <th></th>\n",
              "      <th></th>\n",
              "      <th></th>\n",
              "      <th></th>\n",
              "      <th></th>\n",
              "      <th></th>\n",
              "      <th></th>\n",
              "      <th></th>\n",
              "      <th></th>\n",
              "      <th></th>\n",
              "      <th></th>\n",
              "      <th></th>\n",
              "      <th></th>\n",
              "      <th></th>\n",
              "      <th></th>\n",
              "      <th></th>\n",
              "      <th></th>\n",
              "      <th></th>\n",
              "      <th></th>\n",
              "      <th></th>\n",
              "      <th></th>\n",
              "      <th></th>\n",
              "      <th></th>\n",
              "      <th></th>\n",
              "      <th></th>\n",
              "      <th></th>\n",
              "      <th></th>\n",
              "      <th></th>\n",
              "      <th></th>\n",
              "      <th></th>\n",
              "      <th></th>\n",
              "      <th></th>\n",
              "      <th></th>\n",
              "      <th></th>\n",
              "      <th></th>\n",
              "      <th></th>\n",
              "      <th></th>\n",
              "      <th></th>\n",
              "      <th></th>\n",
              "      <th></th>\n",
              "      <th></th>\n",
              "      <th></th>\n",
              "      <th></th>\n",
              "      <th></th>\n",
              "      <th></th>\n",
              "      <th></th>\n",
              "      <th></th>\n",
              "      <th></th>\n",
              "      <th></th>\n",
              "      <th></th>\n",
              "      <th></th>\n",
              "      <th></th>\n",
              "      <th></th>\n",
              "      <th></th>\n",
              "      <th></th>\n",
              "      <th></th>\n",
              "      <th></th>\n",
              "      <th></th>\n",
              "      <th></th>\n",
              "      <th></th>\n",
              "      <th></th>\n",
              "      <th></th>\n",
              "      <th></th>\n",
              "      <th></th>\n",
              "      <th></th>\n",
              "      <th></th>\n",
              "      <th></th>\n",
              "      <th></th>\n",
              "      <th></th>\n",
              "      <th></th>\n",
              "      <th></th>\n",
              "      <th></th>\n",
              "      <th></th>\n",
              "      <th></th>\n",
              "      <th></th>\n",
              "    </tr>\n",
              "  </thead>\n",
              "  <tbody>\n",
              "    <tr>\n",
              "      <th>0</th>\n",
              "      <td>0.0</td>\n",
              "      <td>0.0</td>\n",
              "      <td>0.0</td>\n",
              "      <td>0.0</td>\n",
              "      <td>0.0</td>\n",
              "      <td>0.0</td>\n",
              "      <td>0.0</td>\n",
              "      <td>0.0</td>\n",
              "      <td>0.0</td>\n",
              "      <td>0.0</td>\n",
              "      <td>0.0</td>\n",
              "      <td>0.0</td>\n",
              "      <td>0.0</td>\n",
              "      <td>0.0</td>\n",
              "      <td>0.0</td>\n",
              "      <td>0.0</td>\n",
              "      <td>0.0</td>\n",
              "      <td>0.0</td>\n",
              "      <td>0.0</td>\n",
              "      <td>0.0</td>\n",
              "      <td>0.0</td>\n",
              "      <td>0.0</td>\n",
              "      <td>0.0</td>\n",
              "      <td>0.0</td>\n",
              "      <td>0.0</td>\n",
              "      <td>0.0</td>\n",
              "      <td>0.0</td>\n",
              "      <td>0.0</td>\n",
              "      <td>0.0</td>\n",
              "      <td>0.0</td>\n",
              "      <td>0.0</td>\n",
              "      <td>0.0</td>\n",
              "      <td>0.0</td>\n",
              "      <td>0.0</td>\n",
              "      <td>0.0</td>\n",
              "      <td>0.0</td>\n",
              "      <td>0.0</td>\n",
              "      <td>0.0</td>\n",
              "      <td>0.0</td>\n",
              "      <td>0.0</td>\n",
              "      <td>...</td>\n",
              "      <td>0.0</td>\n",
              "      <td>0.0</td>\n",
              "      <td>0.0</td>\n",
              "      <td>0.0</td>\n",
              "      <td>0.0</td>\n",
              "      <td>0.0</td>\n",
              "      <td>0.0</td>\n",
              "      <td>0.0</td>\n",
              "      <td>0.0</td>\n",
              "      <td>0.0</td>\n",
              "      <td>0.0</td>\n",
              "      <td>0.0</td>\n",
              "      <td>0.0</td>\n",
              "      <td>0.0</td>\n",
              "      <td>0.0</td>\n",
              "      <td>0.0</td>\n",
              "      <td>0.0</td>\n",
              "      <td>0.0</td>\n",
              "      <td>0.0</td>\n",
              "      <td>0.0</td>\n",
              "      <td>0.0</td>\n",
              "      <td>0.0</td>\n",
              "      <td>0.0</td>\n",
              "      <td>0.0</td>\n",
              "      <td>0.0</td>\n",
              "      <td>0.0</td>\n",
              "      <td>0.0</td>\n",
              "      <td>0.0</td>\n",
              "      <td>0.0</td>\n",
              "      <td>0.0</td>\n",
              "      <td>0.0</td>\n",
              "      <td>0.0</td>\n",
              "      <td>0.0</td>\n",
              "      <td>0.0</td>\n",
              "      <td>0.0</td>\n",
              "      <td>0.0</td>\n",
              "      <td>0.0</td>\n",
              "      <td>0.0</td>\n",
              "      <td>0.0</td>\n",
              "      <td>0.0</td>\n",
              "    </tr>\n",
              "    <tr>\n",
              "      <th>1</th>\n",
              "      <td>0.0</td>\n",
              "      <td>0.0</td>\n",
              "      <td>0.0</td>\n",
              "      <td>0.0</td>\n",
              "      <td>0.0</td>\n",
              "      <td>0.0</td>\n",
              "      <td>0.0</td>\n",
              "      <td>0.0</td>\n",
              "      <td>0.0</td>\n",
              "      <td>0.0</td>\n",
              "      <td>0.0</td>\n",
              "      <td>0.0</td>\n",
              "      <td>0.0</td>\n",
              "      <td>0.0</td>\n",
              "      <td>0.0</td>\n",
              "      <td>0.0</td>\n",
              "      <td>0.0</td>\n",
              "      <td>0.0</td>\n",
              "      <td>0.0</td>\n",
              "      <td>0.0</td>\n",
              "      <td>0.0</td>\n",
              "      <td>0.0</td>\n",
              "      <td>0.0</td>\n",
              "      <td>0.0</td>\n",
              "      <td>0.0</td>\n",
              "      <td>0.0</td>\n",
              "      <td>0.0</td>\n",
              "      <td>0.0</td>\n",
              "      <td>0.0</td>\n",
              "      <td>0.0</td>\n",
              "      <td>0.0</td>\n",
              "      <td>0.0</td>\n",
              "      <td>0.0</td>\n",
              "      <td>0.0</td>\n",
              "      <td>0.0</td>\n",
              "      <td>0.0</td>\n",
              "      <td>0.0</td>\n",
              "      <td>0.0</td>\n",
              "      <td>0.0</td>\n",
              "      <td>0.0</td>\n",
              "      <td>...</td>\n",
              "      <td>0.0</td>\n",
              "      <td>0.0</td>\n",
              "      <td>0.0</td>\n",
              "      <td>0.0</td>\n",
              "      <td>0.0</td>\n",
              "      <td>0.0</td>\n",
              "      <td>0.0</td>\n",
              "      <td>0.0</td>\n",
              "      <td>0.0</td>\n",
              "      <td>0.0</td>\n",
              "      <td>0.0</td>\n",
              "      <td>0.0</td>\n",
              "      <td>0.0</td>\n",
              "      <td>0.0</td>\n",
              "      <td>0.0</td>\n",
              "      <td>0.0</td>\n",
              "      <td>0.0</td>\n",
              "      <td>0.0</td>\n",
              "      <td>0.0</td>\n",
              "      <td>0.0</td>\n",
              "      <td>0.0</td>\n",
              "      <td>0.0</td>\n",
              "      <td>0.0</td>\n",
              "      <td>0.0</td>\n",
              "      <td>0.0</td>\n",
              "      <td>0.0</td>\n",
              "      <td>0.0</td>\n",
              "      <td>0.0</td>\n",
              "      <td>0.0</td>\n",
              "      <td>0.0</td>\n",
              "      <td>0.0</td>\n",
              "      <td>0.0</td>\n",
              "      <td>0.0</td>\n",
              "      <td>0.0</td>\n",
              "      <td>0.0</td>\n",
              "      <td>0.0</td>\n",
              "      <td>0.0</td>\n",
              "      <td>0.0</td>\n",
              "      <td>0.0</td>\n",
              "      <td>0.0</td>\n",
              "    </tr>\n",
              "    <tr>\n",
              "      <th>2</th>\n",
              "      <td>0.0</td>\n",
              "      <td>0.0</td>\n",
              "      <td>0.0</td>\n",
              "      <td>0.0</td>\n",
              "      <td>0.0</td>\n",
              "      <td>0.0</td>\n",
              "      <td>0.0</td>\n",
              "      <td>0.0</td>\n",
              "      <td>0.0</td>\n",
              "      <td>0.0</td>\n",
              "      <td>0.0</td>\n",
              "      <td>0.0</td>\n",
              "      <td>0.0</td>\n",
              "      <td>0.0</td>\n",
              "      <td>0.0</td>\n",
              "      <td>0.0</td>\n",
              "      <td>0.0</td>\n",
              "      <td>0.0</td>\n",
              "      <td>0.0</td>\n",
              "      <td>0.0</td>\n",
              "      <td>0.0</td>\n",
              "      <td>0.0</td>\n",
              "      <td>0.0</td>\n",
              "      <td>0.0</td>\n",
              "      <td>0.0</td>\n",
              "      <td>0.0</td>\n",
              "      <td>0.0</td>\n",
              "      <td>0.0</td>\n",
              "      <td>0.0</td>\n",
              "      <td>0.0</td>\n",
              "      <td>0.0</td>\n",
              "      <td>0.0</td>\n",
              "      <td>0.0</td>\n",
              "      <td>0.0</td>\n",
              "      <td>0.0</td>\n",
              "      <td>0.0</td>\n",
              "      <td>0.0</td>\n",
              "      <td>0.0</td>\n",
              "      <td>0.0</td>\n",
              "      <td>0.0</td>\n",
              "      <td>...</td>\n",
              "      <td>0.0</td>\n",
              "      <td>0.0</td>\n",
              "      <td>0.0</td>\n",
              "      <td>0.0</td>\n",
              "      <td>0.0</td>\n",
              "      <td>0.0</td>\n",
              "      <td>0.0</td>\n",
              "      <td>0.0</td>\n",
              "      <td>0.0</td>\n",
              "      <td>0.0</td>\n",
              "      <td>0.0</td>\n",
              "      <td>0.0</td>\n",
              "      <td>0.0</td>\n",
              "      <td>0.0</td>\n",
              "      <td>0.0</td>\n",
              "      <td>0.0</td>\n",
              "      <td>0.0</td>\n",
              "      <td>0.0</td>\n",
              "      <td>0.0</td>\n",
              "      <td>0.0</td>\n",
              "      <td>0.0</td>\n",
              "      <td>0.0</td>\n",
              "      <td>0.0</td>\n",
              "      <td>0.0</td>\n",
              "      <td>0.0</td>\n",
              "      <td>0.0</td>\n",
              "      <td>0.0</td>\n",
              "      <td>0.0</td>\n",
              "      <td>0.0</td>\n",
              "      <td>0.0</td>\n",
              "      <td>0.0</td>\n",
              "      <td>0.0</td>\n",
              "      <td>0.0</td>\n",
              "      <td>0.0</td>\n",
              "      <td>0.0</td>\n",
              "      <td>0.0</td>\n",
              "      <td>0.0</td>\n",
              "      <td>0.0</td>\n",
              "      <td>0.0</td>\n",
              "      <td>0.0</td>\n",
              "    </tr>\n",
              "    <tr>\n",
              "      <th>3</th>\n",
              "      <td>0.0</td>\n",
              "      <td>0.0</td>\n",
              "      <td>0.0</td>\n",
              "      <td>0.0</td>\n",
              "      <td>0.0</td>\n",
              "      <td>0.0</td>\n",
              "      <td>0.0</td>\n",
              "      <td>0.0</td>\n",
              "      <td>0.0</td>\n",
              "      <td>0.0</td>\n",
              "      <td>0.0</td>\n",
              "      <td>0.0</td>\n",
              "      <td>0.0</td>\n",
              "      <td>0.0</td>\n",
              "      <td>0.0</td>\n",
              "      <td>0.0</td>\n",
              "      <td>0.0</td>\n",
              "      <td>0.0</td>\n",
              "      <td>0.0</td>\n",
              "      <td>0.0</td>\n",
              "      <td>0.0</td>\n",
              "      <td>0.0</td>\n",
              "      <td>0.0</td>\n",
              "      <td>0.0</td>\n",
              "      <td>0.0</td>\n",
              "      <td>0.0</td>\n",
              "      <td>0.0</td>\n",
              "      <td>0.0</td>\n",
              "      <td>0.0</td>\n",
              "      <td>0.0</td>\n",
              "      <td>0.0</td>\n",
              "      <td>0.0</td>\n",
              "      <td>0.0</td>\n",
              "      <td>0.0</td>\n",
              "      <td>0.0</td>\n",
              "      <td>0.0</td>\n",
              "      <td>0.0</td>\n",
              "      <td>0.0</td>\n",
              "      <td>0.0</td>\n",
              "      <td>0.0</td>\n",
              "      <td>...</td>\n",
              "      <td>0.0</td>\n",
              "      <td>0.0</td>\n",
              "      <td>0.0</td>\n",
              "      <td>0.0</td>\n",
              "      <td>0.0</td>\n",
              "      <td>0.0</td>\n",
              "      <td>0.0</td>\n",
              "      <td>0.0</td>\n",
              "      <td>0.0</td>\n",
              "      <td>0.0</td>\n",
              "      <td>0.0</td>\n",
              "      <td>0.0</td>\n",
              "      <td>0.0</td>\n",
              "      <td>0.0</td>\n",
              "      <td>0.0</td>\n",
              "      <td>0.0</td>\n",
              "      <td>0.0</td>\n",
              "      <td>0.0</td>\n",
              "      <td>0.0</td>\n",
              "      <td>0.0</td>\n",
              "      <td>0.0</td>\n",
              "      <td>0.0</td>\n",
              "      <td>0.0</td>\n",
              "      <td>0.0</td>\n",
              "      <td>0.0</td>\n",
              "      <td>0.0</td>\n",
              "      <td>0.0</td>\n",
              "      <td>0.0</td>\n",
              "      <td>0.0</td>\n",
              "      <td>0.0</td>\n",
              "      <td>0.0</td>\n",
              "      <td>0.0</td>\n",
              "      <td>0.0</td>\n",
              "      <td>0.0</td>\n",
              "      <td>0.0</td>\n",
              "      <td>0.0</td>\n",
              "      <td>0.0</td>\n",
              "      <td>0.0</td>\n",
              "      <td>0.0</td>\n",
              "      <td>0.0</td>\n",
              "    </tr>\n",
              "    <tr>\n",
              "      <th>4</th>\n",
              "      <td>0.0</td>\n",
              "      <td>0.0</td>\n",
              "      <td>0.0</td>\n",
              "      <td>0.0</td>\n",
              "      <td>0.0</td>\n",
              "      <td>0.0</td>\n",
              "      <td>0.0</td>\n",
              "      <td>0.0</td>\n",
              "      <td>0.0</td>\n",
              "      <td>0.0</td>\n",
              "      <td>0.0</td>\n",
              "      <td>0.0</td>\n",
              "      <td>0.0</td>\n",
              "      <td>0.0</td>\n",
              "      <td>0.0</td>\n",
              "      <td>0.0</td>\n",
              "      <td>0.0</td>\n",
              "      <td>0.0</td>\n",
              "      <td>0.0</td>\n",
              "      <td>0.0</td>\n",
              "      <td>0.0</td>\n",
              "      <td>0.0</td>\n",
              "      <td>0.0</td>\n",
              "      <td>0.0</td>\n",
              "      <td>0.0</td>\n",
              "      <td>0.0</td>\n",
              "      <td>0.0</td>\n",
              "      <td>0.0</td>\n",
              "      <td>0.0</td>\n",
              "      <td>0.0</td>\n",
              "      <td>0.0</td>\n",
              "      <td>0.0</td>\n",
              "      <td>0.0</td>\n",
              "      <td>0.0</td>\n",
              "      <td>0.0</td>\n",
              "      <td>0.0</td>\n",
              "      <td>0.0</td>\n",
              "      <td>0.0</td>\n",
              "      <td>0.0</td>\n",
              "      <td>0.0</td>\n",
              "      <td>...</td>\n",
              "      <td>0.0</td>\n",
              "      <td>0.0</td>\n",
              "      <td>0.0</td>\n",
              "      <td>0.0</td>\n",
              "      <td>0.0</td>\n",
              "      <td>0.0</td>\n",
              "      <td>0.0</td>\n",
              "      <td>0.0</td>\n",
              "      <td>0.0</td>\n",
              "      <td>0.0</td>\n",
              "      <td>0.0</td>\n",
              "      <td>0.0</td>\n",
              "      <td>0.0</td>\n",
              "      <td>0.0</td>\n",
              "      <td>0.0</td>\n",
              "      <td>0.0</td>\n",
              "      <td>0.0</td>\n",
              "      <td>0.0</td>\n",
              "      <td>0.0</td>\n",
              "      <td>0.0</td>\n",
              "      <td>0.0</td>\n",
              "      <td>0.0</td>\n",
              "      <td>0.0</td>\n",
              "      <td>0.0</td>\n",
              "      <td>0.0</td>\n",
              "      <td>0.0</td>\n",
              "      <td>0.0</td>\n",
              "      <td>0.0</td>\n",
              "      <td>0.0</td>\n",
              "      <td>0.0</td>\n",
              "      <td>0.0</td>\n",
              "      <td>0.0</td>\n",
              "      <td>0.0</td>\n",
              "      <td>0.0</td>\n",
              "      <td>0.0</td>\n",
              "      <td>0.0</td>\n",
              "      <td>0.0</td>\n",
              "      <td>0.0</td>\n",
              "      <td>0.0</td>\n",
              "      <td>0.0</td>\n",
              "    </tr>\n",
              "  </tbody>\n",
              "</table>\n",
              "<p>5 rows × 48190 columns</p>\n",
              "</div>"
            ],
            "text/plain": [
              "prod_id     0594451647  0594481813  ...  B00LI4ZZO8  B00LKG1MC8\n",
              "user_index                          ...                        \n",
              "0                  0.0         0.0  ...         0.0         0.0\n",
              "1                  0.0         0.0  ...         0.0         0.0\n",
              "2                  0.0         0.0  ...         0.0         0.0\n",
              "3                  0.0         0.0  ...         0.0         0.0\n",
              "4                  0.0         0.0  ...         0.0         0.0\n",
              "\n",
              "[5 rows x 48190 columns]"
            ]
          },
          "metadata": {
            "tags": []
          },
          "execution_count": 47
        }
      ]
    },
    {
      "cell_type": "markdown",
      "metadata": {
        "id": "ft7VMjB2xhXl"
      },
      "source": [
        "Now, let's define a **function to get similar users** for a particular user"
      ]
    },
    {
      "cell_type": "code",
      "metadata": {
        "id": "1XkrTk63xhXm"
      },
      "source": [
        "# defining a function to get similar users\n",
        "def similar_users(user_index, interactions_matrix):\n",
        "    similarity = []\n",
        "    for user in range(0, interactions_matrix.shape[0]):\n",
        "        \n",
        "        #finding cosine similarity between the user_id and each user\n",
        "        sim = cosine_similarity([final_ratings_matrix.loc[user_index]], [final_ratings_matrix.iloc[user]])\n",
        "        \n",
        "        #Appending the user and the corresponding similarity score with user_id as a tuple\n",
        "        similarity.append((user, sim))\n",
        "        \n",
        "    similarity.sort(key=lambda x: x[1], reverse=True)\n",
        "    most_similar_users = [tup[0] for tup in similarity] #Extract the user from each tuple in the sorted list\n",
        "    similarity_score = [tup[1] for tup in similarity] ##Extracting the similarity score from each tuple in the sorted list\n",
        "   \n",
        "    #Remove the original user and its similarity score and keep only other similar users \n",
        "    most_similar_users.remove(user)\n",
        "    similarity_score.remove(similarity_score[0])\n",
        "       \n",
        "    return most_similar_users, similarity_score"
      ],
      "execution_count": null,
      "outputs": []
    },
    {
      "cell_type": "markdown",
      "metadata": {
        "id": "7D83LlPCxhXm"
      },
      "source": [
        "#### Finding out top 10 similar users to the user index 3 and their similarity score"
      ]
    },
    {
      "cell_type": "code",
      "metadata": {
        "id": "9PhhdMdexhXp",
        "colab": {
          "base_uri": "https://localhost:8080/"
        },
        "outputId": "db62b396-65fd-4057-bb16-b2eb24775868"
      },
      "source": [
        "similar = similar_users(3, final_ratings_matrix)[0][0:10]\n",
        "similar"
      ],
      "execution_count": null,
      "outputs": [
        {
          "output_type": "execute_result",
          "data": {
            "text/plain": [
              "[3, 320, 12, 793, 261, 156, 1493, 1250, 567, 753]"
            ]
          },
          "metadata": {
            "tags": []
          },
          "execution_count": 49
        }
      ]
    },
    {
      "cell_type": "code",
      "metadata": {
        "id": "Yj_WwDi9xhXp",
        "colab": {
          "base_uri": "https://localhost:8080/"
        },
        "outputId": "4d70497e-bbf8-4c8a-939a-800fe3005b29"
      },
      "source": [
        "#Print the similarity score\n",
        "similar_users(3, final_ratings_matrix)[1][0:10]"
      ],
      "execution_count": null,
      "outputs": [
        {
          "output_type": "execute_result",
          "data": {
            "text/plain": [
              "[array([[0.05662371]]),\n",
              " array([[0.05549645]]),\n",
              " array([[0.05098326]]),\n",
              " array([[0.05024185]]),\n",
              " array([[0.05003874]]),\n",
              " array([[0.04930111]]),\n",
              " array([[0.04889354]]),\n",
              " array([[0.04672744]]),\n",
              " array([[0.04637283]]),\n",
              " array([[0.04492668]])]"
            ]
          },
          "metadata": {
            "tags": []
          },
          "execution_count": 50
        }
      ]
    },
    {
      "cell_type": "markdown",
      "metadata": {
        "id": "byKEaRW2xhXq"
      },
      "source": [
        "#### Finding out top 10 similar users to the user index 1521 and their similarity score"
      ]
    },
    {
      "cell_type": "code",
      "metadata": {
        "id": "kuEJ2upbxhXq",
        "colab": {
          "base_uri": "https://localhost:8080/"
        },
        "outputId": "36d2cdd5-a4c6-4b96-89f7-cc17a64b3f03"
      },
      "source": [
        "similar = similar_users(1521, final_ratings_matrix)[0][0:10]\n",
        "similar"
      ],
      "execution_count": null,
      "outputs": [
        {
          "output_type": "execute_result",
          "data": {
            "text/plain": [
              "[1521, 991, 1065, 1012, 1402, 1371, 1278, 1518, 692, 785]"
            ]
          },
          "metadata": {
            "tags": []
          },
          "execution_count": 51
        }
      ]
    },
    {
      "cell_type": "code",
      "metadata": {
        "id": "_gAVJ54QxhXr",
        "colab": {
          "base_uri": "https://localhost:8080/"
        },
        "outputId": "81917a4e-8d92-4991-d5cc-4dafef9a0108"
      },
      "source": [
        "#Print the similarity score\n",
        "similar_users(1521, final_ratings_matrix)[1][0:10]"
      ],
      "execution_count": null,
      "outputs": [
        {
          "output_type": "execute_result",
          "data": {
            "text/plain": [
              "[array([[0.10889304]]),\n",
              " array([[0.10538068]]),\n",
              " array([[0.1026758]]),\n",
              " array([[0.09418291]]),\n",
              " array([[0.09149062]]),\n",
              " array([[0.09135361]]),\n",
              " array([[0.09028898]]),\n",
              " array([[0.08735684]]),\n",
              " array([[0.08673386]]),\n",
              " array([[0.08478815]])]"
            ]
          },
          "metadata": {
            "tags": []
          },
          "execution_count": 52
        }
      ]
    },
    {
      "cell_type": "markdown",
      "metadata": {
        "id": "pPb0VF2gxhXs"
      },
      "source": [
        "We have found similar users for a given user. Now, let's create **a function to recommend products** to the user using the ratings given by similar users."
      ]
    },
    {
      "cell_type": "code",
      "metadata": {
        "id": "xlU3CoIMxhXs"
      },
      "source": [
        "# defining the recommendations function to get recommendations by using the similar users' preferences\n",
        "def recommendations(user_index, num_of_products, interactions_matrix):\n",
        "    \n",
        "    #Saving similar users using the function similar_users defined above\n",
        "    most_similar_users = similar_users(user_index, interactions_matrix)[0]\n",
        "    \n",
        "    #Finding product IDs with which the user_id has interacted\n",
        "    prod_ids = set(list(interactions_matrix.columns[np.where(interactions_matrix.loc[user_index] > 0)]))\n",
        "    recommendations = []\n",
        "    \n",
        "    observed_interactions = prod_ids.copy()\n",
        "    for similar_user in most_similar_users:\n",
        "        if len(recommendations) < num_of_products:\n",
        "            \n",
        "            #Finding 'n' products which have been rated by similar users but not by the user_id\n",
        "            similar_user_prod_ids = set(list(interactions_matrix.columns[np.where(interactions_matrix.loc[similar_user] > 0)]))\n",
        "            recommendations.extend(list(similar_user_prod_ids.difference(observed_interactions)))\n",
        "            observed_interactions = observed_interactions.union(similar_user_prod_ids)\n",
        "        else:\n",
        "            break\n",
        "    \n",
        "    return recommendations[:num_of_products]"
      ],
      "execution_count": null,
      "outputs": []
    },
    {
      "cell_type": "markdown",
      "metadata": {
        "id": "FDwdhxgtxhXt"
      },
      "source": [
        "#### Recommend 5 products to user index 3 based on similarity based collaborative filtering"
      ]
    },
    {
      "cell_type": "code",
      "metadata": {
        "id": "ft4eij9oxhXt",
        "colab": {
          "base_uri": "https://localhost:8080/"
        },
        "outputId": "6a775e88-2144-4a2b-8b6c-1965d8dc27da"
      },
      "source": [
        "recommendations(3, 5, final_ratings_matrix)"
      ],
      "execution_count": null,
      "outputs": [
        {
          "output_type": "execute_result",
          "data": {
            "text/plain": [
              "['B00114LG7U', 'B001GCQ3KM', 'B000067SF5', 'B0002L5R78', 'B0054U6CEE']"
            ]
          },
          "metadata": {
            "tags": []
          },
          "execution_count": 55
        }
      ]
    },
    {
      "cell_type": "markdown",
      "metadata": {
        "id": "tFlXjpUNxhXt"
      },
      "source": [
        "#### Recommend 5 products to user index 1521 based on similarity based collaborative filtering"
      ]
    },
    {
      "cell_type": "code",
      "metadata": {
        "id": "4huRtxwrxhXu",
        "colab": {
          "base_uri": "https://localhost:8080/"
        },
        "outputId": "e5e0db4d-e180-4088-cc8a-548c7a8c5ad3"
      },
      "source": [
        "recommendations(1521, 5, final_ratings_matrix)"
      ],
      "execution_count": null,
      "outputs": [
        {
          "output_type": "execute_result",
          "data": {
            "text/plain": [
              "['B00DQZQG3G', 'B0079TOEQQ', 'B0035JJJQE', 'B00CF5OHZ2', 'B004T9RR6I']"
            ]
          },
          "metadata": {
            "tags": []
          },
          "execution_count": 56
        }
      ]
    },
    {
      "cell_type": "markdown",
      "metadata": {
        "id": "2JK8z6gK-rfd"
      },
      "source": [
        "We have applied two technique to recommend products to users. Now, let's build one more recommendation system using matrix factorization (SVD)."
      ]
    },
    {
      "cell_type": "markdown",
      "metadata": {
        "id": "t5_5gqSO5JtT"
      },
      "source": [
        "### Model based Collaborative Filtering: Singular Value Decomposition  (15 marks)"
      ]
    },
    {
      "cell_type": "markdown",
      "metadata": {
        "collapsed": true,
        "id": "afH6lNy55JtT"
      },
      "source": [
        "**We have seen above that the interaction matrix is highly sparse. SVD is best to apply on a large sparse matrix. Note that for sparse matrices, we can use the sparse.linalg.svds() function to perform the decomposition**\n",
        "\n",
        "Also, we will use **k=50 latent features** to predict rating of products"
      ]
    },
    {
      "cell_type": "code",
      "metadata": {
        "id": "q-fhNCQY5JtT"
      },
      "source": [
        "from scipy.sparse.linalg import svds # for sparse matrices\n",
        "\n",
        "# Singular Value Decomposition\n",
        "U, s, Vt = svds(final_ratings_matrix, k = 50) # here k is the number of latent features\n",
        "\n",
        "# Construct diagonal array in SVD\n",
        "sigma = np.diag(s)"
      ],
      "execution_count": null,
      "outputs": []
    },
    {
      "cell_type": "code",
      "metadata": {
        "id": "m8ioK5qoxhXv",
        "colab": {
          "base_uri": "https://localhost:8080/"
        },
        "outputId": "d073e4d8-c589-4106-c814-47cc36b7212d"
      },
      "source": [
        "U.shape #checking the shape of the U matrix"
      ],
      "execution_count": null,
      "outputs": [
        {
          "output_type": "execute_result",
          "data": {
            "text/plain": [
              "(1540, 50)"
            ]
          },
          "metadata": {
            "tags": []
          },
          "execution_count": 59
        }
      ]
    },
    {
      "cell_type": "code",
      "metadata": {
        "id": "JF34FNtYxhXv",
        "colab": {
          "base_uri": "https://localhost:8080/"
        },
        "outputId": "c3440188-9ecd-4177-86f1-5b041d68d53d"
      },
      "source": [
        "sigma.shape #checking the shape of the sigma matrix"
      ],
      "execution_count": null,
      "outputs": [
        {
          "output_type": "execute_result",
          "data": {
            "text/plain": [
              "(50, 50)"
            ]
          },
          "metadata": {
            "tags": []
          },
          "execution_count": 60
        }
      ]
    },
    {
      "cell_type": "code",
      "metadata": {
        "id": "d8elBUrMxhXv",
        "colab": {
          "base_uri": "https://localhost:8080/"
        },
        "outputId": "1616588a-e934-4f78-9d13-fc76efe25299"
      },
      "source": [
        "Vt.shape #checking the shape of the Vt matrix"
      ],
      "execution_count": null,
      "outputs": [
        {
          "output_type": "execute_result",
          "data": {
            "text/plain": [
              "(50, 48190)"
            ]
          },
          "metadata": {
            "tags": []
          },
          "execution_count": 61
        }
      ]
    },
    {
      "cell_type": "markdown",
      "metadata": {
        "id": "PC0Ht_jy-rfp"
      },
      "source": [
        "Now, let's regenerate the original matrix using U, Sigma, and Vt matrices. The resulting matrix would be the predicted ratings for all users and products"
      ]
    },
    {
      "cell_type": "code",
      "metadata": {
        "id": "kqFD9mQj5JtT",
        "colab": {
          "base_uri": "https://localhost:8080/",
          "height": 252
        },
        "outputId": "ec09986a-abfc-492d-8d50-57cecd77edf1"
      },
      "source": [
        "all_user_predicted_ratings = np.dot(np.dot(U, sigma),Vt) \n",
        "\n",
        "# Predicted ratings\n",
        "preds_df = pd.DataFrame(abs(all_user_predicted_ratings), columns = final_ratings_matrix.columns)\n",
        "preds_df.head()"
      ],
      "execution_count": null,
      "outputs": [
        {
          "output_type": "execute_result",
          "data": {
            "text/html": [
              "<div>\n",
              "<style scoped>\n",
              "    .dataframe tbody tr th:only-of-type {\n",
              "        vertical-align: middle;\n",
              "    }\n",
              "\n",
              "    .dataframe tbody tr th {\n",
              "        vertical-align: top;\n",
              "    }\n",
              "\n",
              "    .dataframe thead th {\n",
              "        text-align: right;\n",
              "    }\n",
              "</style>\n",
              "<table border=\"1\" class=\"dataframe\">\n",
              "  <thead>\n",
              "    <tr style=\"text-align: right;\">\n",
              "      <th>prod_id</th>\n",
              "      <th>0594451647</th>\n",
              "      <th>0594481813</th>\n",
              "      <th>0970407998</th>\n",
              "      <th>0972683275</th>\n",
              "      <th>1400501466</th>\n",
              "      <th>1400501520</th>\n",
              "      <th>1400501776</th>\n",
              "      <th>1400532620</th>\n",
              "      <th>1400532655</th>\n",
              "      <th>140053271X</th>\n",
              "      <th>1400599997</th>\n",
              "      <th>1400698987</th>\n",
              "      <th>1400699169</th>\n",
              "      <th>1685560148</th>\n",
              "      <th>3744295508</th>\n",
              "      <th>7562434166</th>\n",
              "      <th>787988002X</th>\n",
              "      <th>8862935307</th>\n",
              "      <th>8862936826</th>\n",
              "      <th>9043413585</th>\n",
              "      <th>9573212900</th>\n",
              "      <th>9573212919</th>\n",
              "      <th>9575871979</th>\n",
              "      <th>9800359788</th>\n",
              "      <th>9981719005</th>\n",
              "      <th>9981734241</th>\n",
              "      <th>9981739588</th>\n",
              "      <th>9983722615</th>\n",
              "      <th>998376234X</th>\n",
              "      <th>9983891212</th>\n",
              "      <th>9984922626</th>\n",
              "      <th>9984984362</th>\n",
              "      <th>9985511298</th>\n",
              "      <th>9985511476</th>\n",
              "      <th>9985525264</th>\n",
              "      <th>9985696999</th>\n",
              "      <th>9989360391</th>\n",
              "      <th>B000000O48</th>\n",
              "      <th>B000001OKH</th>\n",
              "      <th>B000001OL6</th>\n",
              "      <th>...</th>\n",
              "      <th>B00KSTODWY</th>\n",
              "      <th>B00KT17TZ4</th>\n",
              "      <th>B00KTIYN7O</th>\n",
              "      <th>B00KU4RD4M</th>\n",
              "      <th>B00KV6FFN0</th>\n",
              "      <th>B00KVLY8E2</th>\n",
              "      <th>B00KVNY2KA</th>\n",
              "      <th>B00KW2W6B2</th>\n",
              "      <th>B00KW3OFG0</th>\n",
              "      <th>B00KWHMR6G</th>\n",
              "      <th>B00KWL62QI</th>\n",
              "      <th>B00KWMNDDM</th>\n",
              "      <th>B00KWPRSJY</th>\n",
              "      <th>B00KWWY1PQ</th>\n",
              "      <th>B00KXAFYZS</th>\n",
              "      <th>B00KXMN08E</th>\n",
              "      <th>B00KXUHX9S</th>\n",
              "      <th>B00KYA7CT8</th>\n",
              "      <th>B00KYMCJF8</th>\n",
              "      <th>B00L0YFJHY</th>\n",
              "      <th>B00L1I727Y</th>\n",
              "      <th>B00L1I80K2</th>\n",
              "      <th>B00L1NZTSS</th>\n",
              "      <th>B00L21HC7A</th>\n",
              "      <th>B00L2442H0</th>\n",
              "      <th>B00L26YDA4</th>\n",
              "      <th>B00L2P3TRS</th>\n",
              "      <th>B00L3YHF6O</th>\n",
              "      <th>B00L403O94</th>\n",
              "      <th>B00L43HAY6</th>\n",
              "      <th>B00L5YZCCG</th>\n",
              "      <th>B00L8I6SFY</th>\n",
              "      <th>B00L8QCVL6</th>\n",
              "      <th>B00LA6T0LS</th>\n",
              "      <th>B00LBZ1Z7K</th>\n",
              "      <th>B00LED02VY</th>\n",
              "      <th>B00LGN7Y3G</th>\n",
              "      <th>B00LGQ6HL8</th>\n",
              "      <th>B00LI4ZZO8</th>\n",
              "      <th>B00LKG1MC8</th>\n",
              "    </tr>\n",
              "  </thead>\n",
              "  <tbody>\n",
              "    <tr>\n",
              "      <th>0</th>\n",
              "      <td>0.005086</td>\n",
              "      <td>0.002178</td>\n",
              "      <td>0.003668</td>\n",
              "      <td>0.040843</td>\n",
              "      <td>0.009640</td>\n",
              "      <td>0.006808</td>\n",
              "      <td>0.020659</td>\n",
              "      <td>0.000649</td>\n",
              "      <td>0.020331</td>\n",
              "      <td>0.005633</td>\n",
              "      <td>0.002952</td>\n",
              "      <td>0.008525</td>\n",
              "      <td>0.001923</td>\n",
              "      <td>0.000429</td>\n",
              "      <td>0.002886</td>\n",
              "      <td>0.003949</td>\n",
              "      <td>0.020008</td>\n",
              "      <td>0.003876</td>\n",
              "      <td>0.008363</td>\n",
              "      <td>0.056064</td>\n",
              "      <td>0.006805</td>\n",
              "      <td>0.004928</td>\n",
              "      <td>0.004677</td>\n",
              "      <td>0.003610</td>\n",
              "      <td>0.030306</td>\n",
              "      <td>0.000370</td>\n",
              "      <td>0.016971</td>\n",
              "      <td>0.000269</td>\n",
              "      <td>0.020698</td>\n",
              "      <td>0.002063</td>\n",
              "      <td>0.000333</td>\n",
              "      <td>0.011196</td>\n",
              "      <td>0.000988</td>\n",
              "      <td>0.003445</td>\n",
              "      <td>0.003703</td>\n",
              "      <td>0.004937</td>\n",
              "      <td>0.009938</td>\n",
              "      <td>0.001626</td>\n",
              "      <td>0.002329</td>\n",
              "      <td>0.005118</td>\n",
              "      <td>...</td>\n",
              "      <td>0.062713</td>\n",
              "      <td>0.004551</td>\n",
              "      <td>0.020934</td>\n",
              "      <td>0.026889</td>\n",
              "      <td>0.000050</td>\n",
              "      <td>0.080949</td>\n",
              "      <td>0.305623</td>\n",
              "      <td>0.023159</td>\n",
              "      <td>0.051055</td>\n",
              "      <td>0.001275</td>\n",
              "      <td>0.306615</td>\n",
              "      <td>0.032136</td>\n",
              "      <td>0.003623</td>\n",
              "      <td>0.033317</td>\n",
              "      <td>0.211126</td>\n",
              "      <td>0.021486</td>\n",
              "      <td>0.000569</td>\n",
              "      <td>0.012997</td>\n",
              "      <td>0.186545</td>\n",
              "      <td>0.080949</td>\n",
              "      <td>0.112158</td>\n",
              "      <td>0.028931</td>\n",
              "      <td>0.007026</td>\n",
              "      <td>0.379500</td>\n",
              "      <td>0.158210</td>\n",
              "      <td>0.201766</td>\n",
              "      <td>0.089726</td>\n",
              "      <td>0.206036</td>\n",
              "      <td>0.013959</td>\n",
              "      <td>0.063592</td>\n",
              "      <td>0.000238</td>\n",
              "      <td>0.061477</td>\n",
              "      <td>0.001214</td>\n",
              "      <td>0.123433</td>\n",
              "      <td>0.028490</td>\n",
              "      <td>0.016109</td>\n",
              "      <td>0.002855</td>\n",
              "      <td>0.174568</td>\n",
              "      <td>0.011367</td>\n",
              "      <td>0.012997</td>\n",
              "    </tr>\n",
              "    <tr>\n",
              "      <th>1</th>\n",
              "      <td>0.002286</td>\n",
              "      <td>0.010898</td>\n",
              "      <td>0.000724</td>\n",
              "      <td>0.130259</td>\n",
              "      <td>0.007506</td>\n",
              "      <td>0.003350</td>\n",
              "      <td>0.063711</td>\n",
              "      <td>0.000674</td>\n",
              "      <td>0.016111</td>\n",
              "      <td>0.002433</td>\n",
              "      <td>0.023243</td>\n",
              "      <td>0.004748</td>\n",
              "      <td>0.007898</td>\n",
              "      <td>0.000623</td>\n",
              "      <td>0.005389</td>\n",
              "      <td>0.003116</td>\n",
              "      <td>0.013192</td>\n",
              "      <td>0.008088</td>\n",
              "      <td>0.010724</td>\n",
              "      <td>0.003728</td>\n",
              "      <td>0.008536</td>\n",
              "      <td>0.008795</td>\n",
              "      <td>0.002515</td>\n",
              "      <td>0.017664</td>\n",
              "      <td>0.000958</td>\n",
              "      <td>0.000209</td>\n",
              "      <td>0.004533</td>\n",
              "      <td>0.001912</td>\n",
              "      <td>0.014662</td>\n",
              "      <td>0.015882</td>\n",
              "      <td>0.003647</td>\n",
              "      <td>0.003395</td>\n",
              "      <td>0.001423</td>\n",
              "      <td>0.001034</td>\n",
              "      <td>0.001213</td>\n",
              "      <td>0.000066</td>\n",
              "      <td>0.007949</td>\n",
              "      <td>0.000794</td>\n",
              "      <td>0.030156</td>\n",
              "      <td>0.008864</td>\n",
              "      <td>...</td>\n",
              "      <td>0.028062</td>\n",
              "      <td>0.069751</td>\n",
              "      <td>0.100250</td>\n",
              "      <td>0.051989</td>\n",
              "      <td>0.000351</td>\n",
              "      <td>0.038586</td>\n",
              "      <td>0.018456</td>\n",
              "      <td>0.012207</td>\n",
              "      <td>0.090763</td>\n",
              "      <td>0.011983</td>\n",
              "      <td>0.000578</td>\n",
              "      <td>0.004127</td>\n",
              "      <td>0.034131</td>\n",
              "      <td>0.065956</td>\n",
              "      <td>0.109507</td>\n",
              "      <td>0.022539</td>\n",
              "      <td>0.000627</td>\n",
              "      <td>0.038570</td>\n",
              "      <td>0.088151</td>\n",
              "      <td>0.038586</td>\n",
              "      <td>0.045624</td>\n",
              "      <td>0.023247</td>\n",
              "      <td>0.008727</td>\n",
              "      <td>0.021204</td>\n",
              "      <td>0.017318</td>\n",
              "      <td>0.015402</td>\n",
              "      <td>0.036499</td>\n",
              "      <td>0.180672</td>\n",
              "      <td>0.027860</td>\n",
              "      <td>0.059609</td>\n",
              "      <td>0.000038</td>\n",
              "      <td>0.013766</td>\n",
              "      <td>0.001473</td>\n",
              "      <td>0.025588</td>\n",
              "      <td>0.042103</td>\n",
              "      <td>0.004251</td>\n",
              "      <td>0.002177</td>\n",
              "      <td>0.024362</td>\n",
              "      <td>0.014765</td>\n",
              "      <td>0.038570</td>\n",
              "    </tr>\n",
              "    <tr>\n",
              "      <th>2</th>\n",
              "      <td>0.001655</td>\n",
              "      <td>0.002675</td>\n",
              "      <td>0.007355</td>\n",
              "      <td>0.007264</td>\n",
              "      <td>0.005152</td>\n",
              "      <td>0.003986</td>\n",
              "      <td>0.003480</td>\n",
              "      <td>0.006961</td>\n",
              "      <td>0.006606</td>\n",
              "      <td>0.002719</td>\n",
              "      <td>0.003830</td>\n",
              "      <td>0.000115</td>\n",
              "      <td>0.052219</td>\n",
              "      <td>0.000099</td>\n",
              "      <td>0.001889</td>\n",
              "      <td>0.001633</td>\n",
              "      <td>0.009597</td>\n",
              "      <td>0.002312</td>\n",
              "      <td>0.013302</td>\n",
              "      <td>0.030823</td>\n",
              "      <td>0.004591</td>\n",
              "      <td>0.005223</td>\n",
              "      <td>0.005087</td>\n",
              "      <td>0.047911</td>\n",
              "      <td>0.011540</td>\n",
              "      <td>0.000369</td>\n",
              "      <td>0.005437</td>\n",
              "      <td>0.001589</td>\n",
              "      <td>0.016260</td>\n",
              "      <td>0.003775</td>\n",
              "      <td>0.001121</td>\n",
              "      <td>0.002047</td>\n",
              "      <td>0.000017</td>\n",
              "      <td>0.001266</td>\n",
              "      <td>0.001747</td>\n",
              "      <td>0.000410</td>\n",
              "      <td>0.006464</td>\n",
              "      <td>0.000288</td>\n",
              "      <td>0.002617</td>\n",
              "      <td>0.004736</td>\n",
              "      <td>...</td>\n",
              "      <td>0.034186</td>\n",
              "      <td>0.018237</td>\n",
              "      <td>0.006772</td>\n",
              "      <td>0.073118</td>\n",
              "      <td>0.000089</td>\n",
              "      <td>0.043818</td>\n",
              "      <td>0.033330</td>\n",
              "      <td>0.011557</td>\n",
              "      <td>0.075729</td>\n",
              "      <td>0.007235</td>\n",
              "      <td>0.008621</td>\n",
              "      <td>0.112510</td>\n",
              "      <td>0.011972</td>\n",
              "      <td>0.058533</td>\n",
              "      <td>0.043062</td>\n",
              "      <td>0.012472</td>\n",
              "      <td>0.000213</td>\n",
              "      <td>0.005964</td>\n",
              "      <td>0.107058</td>\n",
              "      <td>0.043818</td>\n",
              "      <td>0.032366</td>\n",
              "      <td>0.072784</td>\n",
              "      <td>0.029582</td>\n",
              "      <td>0.125087</td>\n",
              "      <td>0.003514</td>\n",
              "      <td>0.015004</td>\n",
              "      <td>0.025893</td>\n",
              "      <td>0.178518</td>\n",
              "      <td>0.020809</td>\n",
              "      <td>0.008984</td>\n",
              "      <td>0.001708</td>\n",
              "      <td>0.051040</td>\n",
              "      <td>0.000325</td>\n",
              "      <td>0.054867</td>\n",
              "      <td>0.017870</td>\n",
              "      <td>0.004996</td>\n",
              "      <td>0.002426</td>\n",
              "      <td>0.083928</td>\n",
              "      <td>0.112205</td>\n",
              "      <td>0.005964</td>\n",
              "    </tr>\n",
              "    <tr>\n",
              "      <th>3</th>\n",
              "      <td>0.001856</td>\n",
              "      <td>0.011019</td>\n",
              "      <td>0.005910</td>\n",
              "      <td>0.014134</td>\n",
              "      <td>0.000179</td>\n",
              "      <td>0.001877</td>\n",
              "      <td>0.005391</td>\n",
              "      <td>0.001709</td>\n",
              "      <td>0.004968</td>\n",
              "      <td>0.001402</td>\n",
              "      <td>0.004506</td>\n",
              "      <td>0.005046</td>\n",
              "      <td>0.005222</td>\n",
              "      <td>0.009216</td>\n",
              "      <td>0.002443</td>\n",
              "      <td>0.003019</td>\n",
              "      <td>0.012704</td>\n",
              "      <td>0.007380</td>\n",
              "      <td>0.002409</td>\n",
              "      <td>0.007586</td>\n",
              "      <td>0.008402</td>\n",
              "      <td>0.004391</td>\n",
              "      <td>0.006039</td>\n",
              "      <td>0.033126</td>\n",
              "      <td>0.001186</td>\n",
              "      <td>0.000356</td>\n",
              "      <td>0.010548</td>\n",
              "      <td>0.000258</td>\n",
              "      <td>0.031719</td>\n",
              "      <td>0.000704</td>\n",
              "      <td>0.000331</td>\n",
              "      <td>0.009481</td>\n",
              "      <td>0.000550</td>\n",
              "      <td>0.001440</td>\n",
              "      <td>0.001920</td>\n",
              "      <td>0.000710</td>\n",
              "      <td>0.001126</td>\n",
              "      <td>0.000525</td>\n",
              "      <td>0.001888</td>\n",
              "      <td>0.007548</td>\n",
              "      <td>...</td>\n",
              "      <td>0.032608</td>\n",
              "      <td>0.025964</td>\n",
              "      <td>0.026600</td>\n",
              "      <td>0.038492</td>\n",
              "      <td>0.000487</td>\n",
              "      <td>0.010766</td>\n",
              "      <td>0.020472</td>\n",
              "      <td>0.002667</td>\n",
              "      <td>0.052217</td>\n",
              "      <td>0.003392</td>\n",
              "      <td>0.033634</td>\n",
              "      <td>0.036008</td>\n",
              "      <td>0.004066</td>\n",
              "      <td>0.014100</td>\n",
              "      <td>0.084241</td>\n",
              "      <td>0.015887</td>\n",
              "      <td>0.000318</td>\n",
              "      <td>0.025996</td>\n",
              "      <td>0.041410</td>\n",
              "      <td>0.010766</td>\n",
              "      <td>0.032706</td>\n",
              "      <td>0.033007</td>\n",
              "      <td>0.007304</td>\n",
              "      <td>0.122311</td>\n",
              "      <td>0.041287</td>\n",
              "      <td>0.125360</td>\n",
              "      <td>0.026164</td>\n",
              "      <td>0.126303</td>\n",
              "      <td>0.000990</td>\n",
              "      <td>0.003605</td>\n",
              "      <td>0.000582</td>\n",
              "      <td>0.009326</td>\n",
              "      <td>0.000465</td>\n",
              "      <td>0.048315</td>\n",
              "      <td>0.023302</td>\n",
              "      <td>0.006790</td>\n",
              "      <td>0.003380</td>\n",
              "      <td>0.005460</td>\n",
              "      <td>0.015263</td>\n",
              "      <td>0.025996</td>\n",
              "    </tr>\n",
              "    <tr>\n",
              "      <th>4</th>\n",
              "      <td>0.001115</td>\n",
              "      <td>0.002670</td>\n",
              "      <td>0.011018</td>\n",
              "      <td>0.014434</td>\n",
              "      <td>0.010319</td>\n",
              "      <td>0.006002</td>\n",
              "      <td>0.017151</td>\n",
              "      <td>0.003726</td>\n",
              "      <td>0.001404</td>\n",
              "      <td>0.005645</td>\n",
              "      <td>0.019896</td>\n",
              "      <td>0.006029</td>\n",
              "      <td>0.048403</td>\n",
              "      <td>0.002085</td>\n",
              "      <td>0.000791</td>\n",
              "      <td>0.002448</td>\n",
              "      <td>0.013900</td>\n",
              "      <td>0.002457</td>\n",
              "      <td>0.003344</td>\n",
              "      <td>0.016090</td>\n",
              "      <td>0.007060</td>\n",
              "      <td>0.000141</td>\n",
              "      <td>0.001070</td>\n",
              "      <td>0.069563</td>\n",
              "      <td>0.009995</td>\n",
              "      <td>0.000240</td>\n",
              "      <td>0.007394</td>\n",
              "      <td>0.002883</td>\n",
              "      <td>0.011199</td>\n",
              "      <td>0.015970</td>\n",
              "      <td>0.000796</td>\n",
              "      <td>0.000696</td>\n",
              "      <td>0.001133</td>\n",
              "      <td>0.000629</td>\n",
              "      <td>0.000742</td>\n",
              "      <td>0.000680</td>\n",
              "      <td>0.002137</td>\n",
              "      <td>0.000589</td>\n",
              "      <td>0.001698</td>\n",
              "      <td>0.002542</td>\n",
              "      <td>...</td>\n",
              "      <td>0.004272</td>\n",
              "      <td>0.031875</td>\n",
              "      <td>0.042673</td>\n",
              "      <td>0.018370</td>\n",
              "      <td>0.000539</td>\n",
              "      <td>0.006931</td>\n",
              "      <td>0.026694</td>\n",
              "      <td>0.007000</td>\n",
              "      <td>0.008009</td>\n",
              "      <td>0.007756</td>\n",
              "      <td>0.030486</td>\n",
              "      <td>0.039650</td>\n",
              "      <td>0.027703</td>\n",
              "      <td>0.074936</td>\n",
              "      <td>0.089344</td>\n",
              "      <td>0.021118</td>\n",
              "      <td>0.000063</td>\n",
              "      <td>0.012770</td>\n",
              "      <td>0.015358</td>\n",
              "      <td>0.006931</td>\n",
              "      <td>0.019192</td>\n",
              "      <td>0.043584</td>\n",
              "      <td>0.001421</td>\n",
              "      <td>0.052971</td>\n",
              "      <td>0.046688</td>\n",
              "      <td>0.024328</td>\n",
              "      <td>0.015354</td>\n",
              "      <td>0.025700</td>\n",
              "      <td>0.003678</td>\n",
              "      <td>0.007998</td>\n",
              "      <td>0.000207</td>\n",
              "      <td>0.023761</td>\n",
              "      <td>0.000747</td>\n",
              "      <td>0.019347</td>\n",
              "      <td>0.012749</td>\n",
              "      <td>0.001026</td>\n",
              "      <td>0.001364</td>\n",
              "      <td>0.020580</td>\n",
              "      <td>0.011828</td>\n",
              "      <td>0.012770</td>\n",
              "    </tr>\n",
              "  </tbody>\n",
              "</table>\n",
              "<p>5 rows × 48190 columns</p>\n",
              "</div>"
            ],
            "text/plain": [
              "prod_id  0594451647  0594481813  0970407998  ...  B00LGQ6HL8  B00LI4ZZO8  B00LKG1MC8\n",
              "0          0.005086    0.002178    0.003668  ...    0.174568    0.011367    0.012997\n",
              "1          0.002286    0.010898    0.000724  ...    0.024362    0.014765    0.038570\n",
              "2          0.001655    0.002675    0.007355  ...    0.083928    0.112205    0.005964\n",
              "3          0.001856    0.011019    0.005910  ...    0.005460    0.015263    0.025996\n",
              "4          0.001115    0.002670    0.011018  ...    0.020580    0.011828    0.012770\n",
              "\n",
              "[5 rows x 48190 columns]"
            ]
          },
          "metadata": {
            "tags": []
          },
          "execution_count": 62
        }
      ]
    },
    {
      "cell_type": "markdown",
      "metadata": {
        "id": "AZQCleRa-rfq"
      },
      "source": [
        "We have the prediction of ratings but we need to create a **function to recommend products** to the users on the basis of predicted ratings for each product"
      ]
    },
    {
      "cell_type": "code",
      "metadata": {
        "id": "eRUGWT3s5JtT"
      },
      "source": [
        "# Recommend the items with the highest predicted ratings\n",
        "\n",
        "def recommend_items(user_index, interactions_matrix, preds_df, num_recommendations):\n",
        "    \n",
        "    # Get and sort the user's ratings from the actual and predicted interaction matrix\n",
        "    sorted_user_ratings = interactions_matrix.loc[user_index].sort_values(ascending=False)\n",
        "    sorted_user_predictions = preds_df.loc[user_index].sort_values(ascending=False)\n",
        "\n",
        "    #Creating a dataframe with actual and predicted ratings columns\n",
        "    temp = pd.concat([sorted_user_ratings, sorted_user_predictions], axis=1)\n",
        "    temp.index.name = 'Recommended Products'\n",
        "    temp.columns = ['user_ratings', 'user_predictions']\n",
        "    \n",
        "    #Filtering the dataframe where actual ratings are 0 which implies that the user has not interacted with that product\n",
        "    temp = temp.loc[temp.user_ratings == 0]   \n",
        "    \n",
        "    #Recommending products with top predicted ratings\n",
        "    temp = temp.sort_values('user_predictions', ascending=False) #Sort the dataframe by user_predictions in descending order\n",
        "    print('\\nBelow are the recommended products for user(user_id = {}):\\n'.format(user_index))\n",
        "    print(temp['user_predictions'].head(num_recommendations))"
      ],
      "execution_count": null,
      "outputs": []
    },
    {
      "cell_type": "markdown",
      "metadata": {
        "id": "bp0XlTzDxhXw"
      },
      "source": [
        "**Recommending top 5 products to user id 121**"
      ]
    },
    {
      "cell_type": "code",
      "metadata": {
        "id": "mrWWbjMh5JtU",
        "colab": {
          "base_uri": "https://localhost:8080/"
        },
        "outputId": "cf01992c-f915-4b59-ebc8-a5498fa4927a"
      },
      "source": [
        "#Enter 'user index' and 'num_recommendations' for the user\n",
        "user_index = 121\n",
        "num_recommendations = 5\n",
        "recommend_items(user_index, final_ratings_matrix, preds_df, num_recommendations)"
      ],
      "execution_count": null,
      "outputs": [
        {
          "output_type": "stream",
          "text": [
            "\n",
            "Below are the recommended products for user(user_id = 121):\n",
            "\n",
            "Recommended Products\n",
            "B004CLYEDC    2.414390\n",
            "B0088CJT4U    1.521306\n",
            "B009NHWVIA    1.309224\n",
            "B008ULPAT2    1.200111\n",
            "B005I6EU48    1.126866\n",
            "Name: user_predictions, dtype: float64\n"
          ],
          "name": "stdout"
        }
      ]
    },
    {
      "cell_type": "markdown",
      "metadata": {
        "id": "_l0U1j2DxhXx"
      },
      "source": [
        "**Recommending the 5 products to user index 465**"
      ]
    },
    {
      "cell_type": "code",
      "metadata": {
        "id": "DA3I_PG-xhXx",
        "colab": {
          "base_uri": "https://localhost:8080/"
        },
        "outputId": "32fb038c-389a-4332-89aa-c6218a608455"
      },
      "source": [
        "#Enter 'user_index' and 'num_recommendations' for the user #\n",
        "user_index = 465\n",
        "num_recommendations = 5\n",
        "recommend_items(user_index, final_ratings_matrix, preds_df, num_recommendations)"
      ],
      "execution_count": null,
      "outputs": [
        {
          "output_type": "stream",
          "text": [
            "\n",
            "Below are the recommended products for user(user_id = 465):\n",
            "\n",
            "Recommended Products\n",
            "B008DWCRQW    1.038076\n",
            "B0079UAT0A    0.809093\n",
            "B008X9ZBVI    0.801342\n",
            "B00829TIA4    0.747477\n",
            "B008X9Z528    0.702148\n",
            "Name: user_predictions, dtype: float64\n"
          ],
          "name": "stdout"
        }
      ]
    },
    {
      "cell_type": "markdown",
      "metadata": {
        "id": "XGW50Tzn5JtU"
      },
      "source": [
        "### Evaluate the model (10 marks)"
      ]
    },
    {
      "cell_type": "markdown",
      "metadata": {
        "id": "5juRY83l5JtU"
      },
      "source": [
        "#### Evaluation of the Model based Collaborative Filtering (SVD)"
      ]
    },
    {
      "cell_type": "code",
      "metadata": {
        "id": "1K4aEV7n5JtU",
        "colab": {
          "base_uri": "https://localhost:8080/",
          "height": 182
        },
        "outputId": "4de9cb1d-22ab-46c9-e857-edb40ac617fa"
      },
      "source": [
        "# Actual ratings given by the users\n",
        "final_ratings_matrix.head()"
      ],
      "execution_count": null,
      "outputs": [
        {
          "output_type": "error",
          "ename": "NameError",
          "evalue": "ignored",
          "traceback": [
            "\u001b[0;31m---------------------------------------------------------------------------\u001b[0m",
            "\u001b[0;31mNameError\u001b[0m                                 Traceback (most recent call last)",
            "\u001b[0;32m<ipython-input-1-304095c4dbb5>\u001b[0m in \u001b[0;36m<module>\u001b[0;34m()\u001b[0m\n\u001b[1;32m      1\u001b[0m \u001b[0;31m# Actual ratings given by the users\u001b[0m\u001b[0;34m\u001b[0m\u001b[0;34m\u001b[0m\u001b[0;34m\u001b[0m\u001b[0m\n\u001b[0;32m----> 2\u001b[0;31m \u001b[0mfinal_ratings_matrix\u001b[0m\u001b[0;34m.\u001b[0m\u001b[0mhead\u001b[0m\u001b[0;34m(\u001b[0m\u001b[0;34m)\u001b[0m\u001b[0;34m\u001b[0m\u001b[0;34m\u001b[0m\u001b[0m\n\u001b[0m",
            "\u001b[0;31mNameError\u001b[0m: name 'final_ratings_matrix' is not defined"
          ]
        }
      ]
    },
    {
      "cell_type": "code",
      "metadata": {
        "id": "3ERqRpsa5JtU"
      },
      "source": [
        "# Find average actual rating for each item\n",
        "final_ratings_matrix.mean()"
      ],
      "execution_count": null,
      "outputs": []
    },
    {
      "cell_type": "code",
      "metadata": {
        "id": "foZqWixy5JtU"
      },
      "source": [
        "# Predicted ratings \n",
        "preds_df.head()"
      ],
      "execution_count": null,
      "outputs": []
    },
    {
      "cell_type": "code",
      "metadata": {
        "id": "FfxUk7uA5JtU"
      },
      "source": [
        "# Find average predicted rating for each item\n",
        "preds_df.mean()"
      ],
      "execution_count": null,
      "outputs": []
    },
    {
      "cell_type": "code",
      "metadata": {
        "id": "gxBreF6x5JtU"
      },
      "source": [
        "#create a dataframe containing average actual ratings and avearge predicted ratings for each product\n",
        "rmse_df = pd.concat([final_ratings_matrix.mean(), preds_df.mean()], axis=1)\n",
        "\n",
        "rmse_df.columns = ['Avg_actual_ratings', 'Avg_predicted_ratings']\n",
        "\n",
        "rmse_df.head()"
      ],
      "execution_count": null,
      "outputs": []
    },
    {
      "cell_type": "code",
      "metadata": {
        "id": "NLrgGD2K5JtU"
      },
      "source": [
        "#Calculate and print RMSE using the mean_square_error function\n",
        "RMSE = np.sqrt((sum((rmse_df['Avg_actual_ratings']-rmse_df['Avg_predicted_ratings'])**2))/rmse_df.shape[0] )\n",
        "print('\\nRMSE SVD Model = {} \\n'.format(RMSE))"
      ],
      "execution_count": null,
      "outputs": []
    },
    {
      "cell_type": "markdown",
      "metadata": {
        "id": "ZDopC20i-rf4"
      },
      "source": [
        "### Recommendation (2 marks)"
      ]
    },
    {
      "cell_type": "markdown",
      "metadata": {
        "id": "PUtKv8vR5JtU"
      },
      "source": [
        "#### Recommend top 10 products to the user id 100"
      ]
    },
    {
      "cell_type": "code",
      "metadata": {
        "id": "rISMTcWg5JtU",
        "colab": {
          "base_uri": "https://localhost:8080/"
        },
        "outputId": "8535327c-21eb-44cf-c0a5-06ebaeb02166"
      },
      "source": [
        "# Enter 'user_index' and 'num_recommendations' for the user #\n",
        "user_index = 100\n",
        "num_recommendations = 10 \n",
        "recommend_items(user_index, final_ratings_matrix, preds_df, num_recommendations)"
      ],
      "execution_count": null,
      "outputs": [
        {
          "output_type": "stream",
          "text": [
            "\n",
            "Below are the recommended products for user(user_id = 100):\n",
            "\n",
            "Recommended Products\n",
            "B000N99BBC    1.624746\n",
            "B001CHHVCU    1.132730\n",
            "B000JMJWV2    1.047888\n",
            "B002SZEOLG    0.955049\n",
            "B001TH7GSW    0.879705\n",
            "B009SYZ8OC    0.854430\n",
            "B00DIFIM36    0.816153\n",
            "B00BGGDVOO    0.803755\n",
            "B004CLYEDC    0.748799\n",
            "B0015DYMVO    0.748797\n",
            "Name: user_predictions, dtype: float64\n"
          ],
          "name": "stdout"
        }
      ]
    },
    {
      "cell_type": "markdown",
      "metadata": {
        "id": "f3M5tHUF5JtU"
      },
      "source": [
        "### Conclusion (2 marks)"
      ]
    },
    {
      "cell_type": "markdown",
      "metadata": {
        "id": "K9IPL6ue5JtU"
      },
      "source": [
        "**Conclusion:**\n",
        "\n",
        "In this project, Durga's recommend **personlized products** to the different customers using following recommendation models   \n",
        "\n",
        "**Rank Based** Recommendation System (Popularity based)\n",
        "  - Recommended products/items based on popularity/trend. \n",
        "  - Algorithm look for products/movies that are currently trending/most popularity \n",
        "\n",
        "**Collaborative Filtering based** Recommendation System\n",
        "-   Based on similar users that is calcualted using *cosine similarity* and recommend products rated by the similar users.\n",
        "\n",
        "**Model based Collaborative Filtering: Singular Value Decomposition {(matrix factorization (SVD)}**\n",
        " - Sparsity & scalability are the two biggest problems with the collaborative filtering method. So we use the singular value decomposition, which is the matrix-factorization technique. It reduces the original sparse matrix to low-dimensional matrices with latent features & less sparsity. And \n",
        "tells us how much a user agrees with a set of latent features and how much a movie/product fits into that set of latent features. \n",
        " - Its also known as personalized recommendation system, the recommendations are based on the past behavior of the user and it is not dependent on any additional information.\n",
        "\n",
        "Hence, we **learned the merits and drawbacks** of these recommendation systems and when to use which type of recommendation system.\n"
      ]
    }
  ]
}